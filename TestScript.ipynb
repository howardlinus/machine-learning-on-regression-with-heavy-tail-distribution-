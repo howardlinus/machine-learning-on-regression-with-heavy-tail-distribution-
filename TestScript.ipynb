{
 "cells": [
  {
   "cell_type": "code",
   "execution_count": 1,
   "metadata": {
    "collapsed": true
   },
   "outputs": [],
   "source": [
    "from Train import *\n",
    "from CReg import *\n",
    "from GReg import *\n",
    "\n",
    "from matplotlib.pyplot import *\n",
    "import matplotlib.pyplot as plt\n",
    "import numpy as np\n",
    "import os\n",
    "%matplotlib inline"
   ]
  },
  {
   "cell_type": "code",
   "execution_count": null,
   "metadata": {
    "collapsed": false
   },
   "outputs": [],
   "source": []
  },
  {
   "cell_type": "code",
   "execution_count": 2,
   "metadata": {
    "collapsed": false
   },
   "outputs": [],
   "source": [
    "path='..\\\\Problem1\\\\'\n",
    "filename1='data_1_1.csv'\n",
    "filename2='data_1_2.csv'\n",
    "filename3='data_1_3.csv'\n",
    "filename4='data_1_4.csv'\n",
    "filename5='data_1_5.csv'\n",
    "data_1_1 = np.genfromtxt(path+filename1, delimiter=\",\")[1:,:]\n",
    "data_1_2 = np.genfromtxt(path+filename2, delimiter=\",\")[1:,:]\n",
    "data_1_3 = np.genfromtxt(path+filename3, delimiter=\",\")[1:,:]\n",
    "data_1_4 = np.genfromtxt(path+filename4, delimiter=\",\")[1:,:]\n",
    "data_1_5 = np.genfromtxt(path+filename5, delimiter=\",\")[1:,:]"
   ]
  },
  {
   "cell_type": "code",
   "execution_count": 3,
   "metadata": {
    "collapsed": true
   },
   "outputs": [],
   "source": [
    "# split each 5 data sets between training set (70%) and test set (30%)\n",
    "np.random.shuffle(data_1_1)\n",
    "np.random.shuffle(data_1_2)\n",
    "np.random.shuffle(data_1_3)\n",
    "np.random.shuffle(data_1_4)\n",
    "np.random.shuffle(data_1_5)\n",
    "train_data_1_1 = data_1_1[:int(len(data_1_1)*.7)];test_data_1_1 = data_1_1[int(len(data_1_1)*.7):]\n",
    "train_data_1_2 = data_1_2[:int(len(data_1_2)*.7)];test_data_1_2 = data_1_2[int(len(data_1_2)*.7):]\n",
    "train_data_1_3 = data_1_3[:int(len(data_1_3)*.7)];test_data_1_3 = data_1_3[int(len(data_1_3)*.7):]\n",
    "train_data_1_4 = data_1_4[:int(len(data_1_4)*.7)];test_data_1_4 = data_1_4[int(len(data_1_4)*.7):]\n",
    "train_data_1_5 = data_1_5[:int(len(data_1_5)*.7)];test_data_1_5 = data_1_5[int(len(data_1_5)*.7):]"
   ]
  },
  {
   "cell_type": "code",
   "execution_count": 18,
   "metadata": {
    "collapsed": true
   },
   "outputs": [],
   "source": [
    "# split each 5 data sets between training set (60%), cross_validation set (20%) and test set (20%)\n",
    "np.random.shuffle(data_1_1)\n",
    "np.random.shuffle(data_1_2)\n",
    "np.random.shuffle(data_1_3)\n",
    "np.random.shuffle(data_1_4)\n",
    "np.random.shuffle(data_1_5)\n",
    "train1 = data_1_1[:int(len(data_1_1)*.6)];cv1 = data_1_1[int(len(data_1_1)*.6):int(len(data_1_1)*.8)]\n",
    "test1 = data_1_1[int(len(data_1_1)*.8):]\n",
    "train2 = data_1_2[:int(len(data_1_2)*.6)];cv2 = data_1_2[int(len(data_1_2)*.6):int(len(data_1_2)*.8)]\n",
    "test2 = data_1_2[int(len(data_1_2)*.8):]\n",
    "train3 = data_1_3[:int(len(data_1_3)*.6)];cv3 = data_1_3[int(len(data_1_3)*.6):int(len(data_1_3)*.8)]\n",
    "test3 = data_1_3[int(len(data_1_3)*.8):]\n",
    "train4 = data_1_4[:int(len(data_1_4)*.6)];cv4 = data_1_4[int(len(data_1_4)*.6):int(len(data_1_4)*.8)]\n",
    "test4 = data_1_4[int(len(data_1_4)*.8):]\n",
    "train5 = data_1_5[:int(len(data_1_5)*.6)];cv5 = data_1_5[int(len(data_1_5)*.6):int(len(data_1_5)*.8)]\n",
    "test5 = data_1_5[int(len(data_1_5)*.8):]"
   ]
  },
  {
   "cell_type": "code",
   "execution_count": 19,
   "metadata": {
    "collapsed": false
   },
   "outputs": [
    {
     "data": {
      "text/plain": [
       "2.423456956081992e-05"
      ]
     },
     "execution_count": 19,
     "metadata": {},
     "output_type": "execute_result"
    }
   ],
   "source": [
    "CReg1=Cauchy_regression1(lambd=0)\n",
    "numgrad = CReg1.computeNumericalGradients(data_1_1[:,0],data_1_1[:,1])\n",
    "grad = CReg1.computeGradients(data_1_1[:,0],data_1_1[:,1])\n",
    "np.linalg.norm(grad-numgrad)/np.linalg.norm(grad+numgrad)"
   ]
  },
  {
   "cell_type": "code",
   "execution_count": 20,
   "metadata": {
    "collapsed": false
   },
   "outputs": [
    {
     "data": {
      "text/plain": [
       "array([  8.29698820e-01,   8.76722574e-01,   3.56144608e+05,\n",
       "        -4.04567826e+04])"
      ]
     },
     "execution_count": 20,
     "metadata": {},
     "output_type": "execute_result"
    }
   ],
   "source": [
    "CReg1.getParams()"
   ]
  },
  {
   "cell_type": "code",
   "execution_count": 21,
   "metadata": {
    "collapsed": false
   },
   "outputs": [
    {
     "data": {
      "text/plain": [
       "2.423456956081992e-05"
      ]
     },
     "execution_count": 21,
     "metadata": {},
     "output_type": "execute_result"
    }
   ],
   "source": [
    "numgrad = CReg1.computeNumericalGradients(data_1_1[:,0],data_1_1[:,1])\n",
    "grad = CReg1.computeGradients(data_1_1[:,0],data_1_1[:,1])\n",
    "np.linalg.norm(grad-numgrad)/np.linalg.norm(grad+numgrad)"
   ]
  },
  {
   "cell_type": "code",
   "execution_count": 17,
   "metadata": {
    "collapsed": false
   },
   "outputs": [
    {
     "data": {
      "text/plain": [
       "array([  2.97106836e-01,   7.33030836e-02,   3.56144608e+05,\n",
       "        -4.04567826e+04])"
      ]
     },
     "execution_count": 17,
     "metadata": {},
     "output_type": "execute_result"
    }
   ],
   "source": [
    "CReg1.getParams()"
   ]
  },
  {
   "cell_type": "code",
   "execution_count": 15,
   "metadata": {
    "collapsed": false
   },
   "outputs": [
    {
     "name": "stdout",
     "output_type": "stream",
     "text": [
      "Optimization terminated successfully.\n",
      "         Current function value: -39.961295\n",
      "         Iterations: 0\n",
      "         Function evaluations: 1\n",
      "         Gradient evaluations: 1\n"
     ]
    },
    {
     "data": {
      "text/plain": [
       "<matplotlib.text.Text at 0x8050e10>"
      ]
     },
     "execution_count": 15,
     "metadata": {},
     "output_type": "execute_result"
    },
    {
     "data": {
      "image/png": "[encoded data removed]",
      "text/plain": [
       "<matplotlib.figure.Figure at 0x780ba90>"
      ]
     },
     "metadata": {},
     "output_type": "display_data"
    }
   ],
   "source": [
    "CT1 = trainer(CReg1)\n",
    "CT1.train(train_data_1_1[:,0], train_data_1_1[:,1], test_data_1_1[:,0], test_data_1_1[:,1])\n",
    "plot(CT1.J); plot(CT1.testJ); grid(1);xlabel('Iterations');ylabel('Cost')"
   ]
  },
  {
   "cell_type": "code",
   "execution_count": 12,
   "metadata": {
    "collapsed": false
   },
   "outputs": [],
   "source": [
    "Reg1=Heavy_tail_regression1(lambd=0.0001)\n",
    "Reg2=Heavy_tail_regression2(lambd=0.0001)\n",
    "Reg3=Heavy_tail_regression3(lambd=0.0001)\n",
    "Reg4=Heavy_tail_regression4(lambd=0.0001)\n",
    "Reg5=Heavy_tail_regression5(lambd=0.0001)\n",
    "weights=[]"
   ]
  },
  {
   "cell_type": "code",
   "execution_count": 6,
   "metadata": {
    "collapsed": true
   },
   "outputs": [],
   "source": [
    "T1 = trainer(Reg1)\n",
    "T2 = trainer(Reg2)\n",
    "T3 = trainer(Reg3)\n",
    "T4 = trainer(Reg4)\n",
    "T5 = trainer(Reg5)"
   ]
  },
  {
   "cell_type": "code",
   "execution_count": 44,
   "metadata": {
    "collapsed": false
   },
   "outputs": [
    {
     "data": {
      "text/plain": [
       "2.5730228126540882e-09"
      ]
     },
     "execution_count": 44,
     "metadata": {},
     "output_type": "execute_result"
    }
   ],
   "source": [
    "numgrad = Reg2.computeNumericalGradients(data_1_1[:,0],data_1_1[:,1])\n",
    "grad = Reg2.computeGradients(data_1_1[:,0],data_1_1[:,1])\n",
    "np.linalg.norm(grad-numgrad)/np.linalg.norm(grad+numgrad)"
   ]
  },
  {
   "cell_type": "code",
   "execution_count": 45,
   "metadata": {
    "collapsed": false,
    "scrolled": true
   },
   "outputs": [
    {
     "name": "stdout",
     "output_type": "stream",
     "text": [
      "Optimization terminated successfully.\n",
      "         Current function value: 1.762699\n",
      "         Iterations: 15\n",
      "         Function evaluations: 18\n",
      "         Gradient evaluations: 18\n"
     ]
    }
   ],
   "source": [
    "T1.train(train_data_1_1[:,0], train_data_1_1[:,1], test_data_1_1[:,0], test_data_1_1[:,1])\n",
    "J1_1=T1.J;testJ1_1=T1.testJ; weights.append(T1.Reg.getParams(L=2))"
   ]
  },
  {
   "cell_type": "code",
   "execution_count": 46,
   "metadata": {
    "collapsed": false
   },
   "outputs": [
    {
     "name": "stdout",
     "output_type": "stream",
     "text": [
      "Optimization terminated successfully.\n",
      "         Current function value: 2.600365\n",
      "         Iterations: 17\n",
      "         Function evaluations: 18\n",
      "         Gradient evaluations: 18\n"
     ]
    }
   ],
   "source": [
    "T1.train(train_data_1_2[:,0], train_data_1_2[:,1], test_data_1_2[:,0], test_data_1_2[:,1])\n",
    "J1_2=T1.J;testJ1_2=T1.testJ; weights.append(T1.Reg.getParams(L=2))"
   ]
  },
  {
   "cell_type": "code",
   "execution_count": 47,
   "metadata": {
    "collapsed": false
   },
   "outputs": [
    {
     "name": "stdout",
     "output_type": "stream",
     "text": [
      "Optimization terminated successfully.\n",
      "         Current function value: 2.684885\n",
      "         Iterations: 17\n",
      "         Function evaluations: 19\n",
      "         Gradient evaluations: 19\n"
     ]
    }
   ],
   "source": [
    "T1.train(train_data_1_3[:,0], train_data_1_3[:,1], test_data_1_3[:,0], test_data_1_3[:,1])\n",
    "J1_3=T1.J;testJ1_3=T1.testJ; weights.append(T1.Reg.getParams(L=2))"
   ]
  },
  {
   "cell_type": "code",
   "execution_count": 48,
   "metadata": {
    "collapsed": false
   },
   "outputs": [
    {
     "name": "stdout",
     "output_type": "stream",
     "text": [
      "Optimization terminated successfully.\n",
      "         Current function value: 1.646014\n",
      "         Iterations: 16\n",
      "         Function evaluations: 18\n",
      "         Gradient evaluations: 18\n"
     ]
    }
   ],
   "source": [
    "T1.train(train_data_1_4[:,0], train_data_1_4[:,1], test_data_1_4[:,0], test_data_1_4[:,1])\n",
    "J1_4=T1.J;testJ1_4=T1.testJ; weights.append(T1.Reg.getParams(L=2))"
   ]
  },
  {
   "cell_type": "code",
   "execution_count": 49,
   "metadata": {
    "collapsed": false
   },
   "outputs": [
    {
     "name": "stdout",
     "output_type": "stream",
     "text": [
      "Optimization terminated successfully.\n",
      "         Current function value: 2.295376\n",
      "         Iterations: 40\n",
      "         Function evaluations: 48\n",
      "         Gradient evaluations: 48\n"
     ]
    }
   ],
   "source": [
    "T1.train(train_data_1_5[:,0], train_data_1_5[:,1], test_data_1_5[:,0], test_data_1_5[:,1])\n",
    "J1_5=T1.J;testJ1_5=T1.testJ; weights.append(T1.Reg.getParams(L=2))"
   ]
  },
  {
   "cell_type": "code",
   "execution_count": 50,
   "metadata": {
    "collapsed": false
   },
   "outputs": [
    {
     "data": {
      "text/plain": [
       "<matplotlib.text.Text at 0x190b6358>"
      ]
     },
     "execution_count": 50,
     "metadata": {},
     "output_type": "execute_result"
    },
    {
     "data": {
      "image/png": "[encoded data removed]",
      "text/plain": [
       "<matplotlib.figure.Figure at 0x18cc9710>"
      ]
     },
     "metadata": {},
     "output_type": "display_data"
    }
   ],
   "source": [
    "fig = figure(0,(15,3))\n",
    "subplot(1,5,1); plot(J1_1); plot(testJ1_1); grid(1);xlabel('Iterations');ylabel('Cost')\n",
    "subplot(1,5,2); plot(J1_2); plot(testJ1_2); grid(1);xlabel('Iterations');ylabel('Cost')\n",
    "subplot(1,5,3); plot(J1_3); plot(testJ1_3); grid(1);xlabel('Iterations');ylabel('Cost')\n",
    "subplot(1,5,4); plot(J1_4); plot(testJ1_4); grid(1);xlabel('Iterations');ylabel('Cost')\n",
    "subplot(1,5,5); plot(J1_5); plot(testJ1_5); grid(1);xlabel('Iterations');ylabel('Cost')\n",
    "\n"
   ]
  },
  {
   "cell_type": "code",
   "execution_count": 51,
   "metadata": {
    "collapsed": false
   },
   "outputs": [
    {
     "data": {
      "text/plain": [
       "[array([ 1.08418877,  0.24816545]),\n",
       " array([ 1.4400475 , -0.67934793]),\n",
       " array([-0.37290246, -0.23002688]),\n",
       " array([ 0.36878649,  0.93793248]),\n",
       " array([-1.03500076,  0.37827732])]"
      ]
     },
     "execution_count": 51,
     "metadata": {},
     "output_type": "execute_result"
    }
   ],
   "source": [
    "weights"
   ]
  },
  {
   "cell_type": "code",
   "execution_count": 52,
   "metadata": {
    "collapsed": false
   },
   "outputs": [
    {
     "data": {
      "text/plain": [
       "array([-1.03500076,  0.37827732,  1.44462323,  0.61069155])"
      ]
     },
     "execution_count": 52,
     "metadata": {},
     "output_type": "execute_result"
    }
   ],
   "source": [
    "Reg1.getParams()"
   ]
  },
  {
   "cell_type": "code",
   "execution_count": null,
   "metadata": {
    "collapsed": false
   },
   "outputs": [],
   "source": []
  },
  {
   "cell_type": "code",
   "execution_count": 15,
   "metadata": {
    "collapsed": false
   },
   "outputs": [
    {
     "data": {
      "text/plain": [
       "<matplotlib.text.Text at 0x19261518>"
      ]
     },
     "execution_count": 15,
     "metadata": {},
     "output_type": "execute_result"
    },
    {
     "data": {
      "image/png": "[encoded data removed]",
      "text/plain": [
       "<matplotlib.figure.Figure at 0x19353128>"
      ]
     },
     "metadata": {},
     "output_type": "display_data"
    }
   ],
   "source": [
    "Sdata=Reg2.dataGeneration(0,1,100)\n",
    "scatter(Sdata[:,0],Sdata[:,1])\n",
    "grid(1)\n",
    "xlabel('x')\n",
    "ylabel('y')"
   ]
  },
  {
   "cell_type": "code",
   "execution_count": 159,
   "metadata": {
    "collapsed": false
   },
   "outputs": [
    {
     "data": {
      "text/plain": [
       "array([ 0.3894474 , -1.45662045, -0.62674557])"
      ]
     },
     "execution_count": 159,
     "metadata": {},
     "output_type": "execute_result"
    }
   ],
   "source": [
    "Reg2.setParams([0.3894474 , -1.45662045, -0.62674557],L=1)\n",
    "Reg2.getParams(L=1)"
   ]
  },
  {
   "cell_type": "code",
   "execution_count": null,
   "metadata": {
    "collapsed": false
   },
   "outputs": [],
   "source": []
  },
  {
   "cell_type": "code",
   "execution_count": 10,
   "metadata": {
    "collapsed": false
   },
   "outputs": [
    {
     "data": {
      "text/plain": [
       "array([ 0.97741932,  0.80757159,  0.86009505,  0.02815771,  0.96858647])"
      ]
     },
     "execution_count": 10,
     "metadata": {},
     "output_type": "execute_result"
    }
   ],
   "source": [
    "x0=np.random.uniform(0,1,5); x0"
   ]
  },
  {
   "cell_type": "code",
   "execution_count": 9,
   "metadata": {
    "collapsed": false
   },
   "outputs": [
    {
     "data": {
      "text/plain": [
       "array([-9.34080197, -9.35061984, -9.40790775, -9.21173744, -9.67656964])"
      ]
     },
     "execution_count": 9,
     "metadata": {},
     "output_type": "execute_result"
    }
   ],
   "source": [
    "y0=np.random.uniform(-10,-9,5); y0"
   ]
  },
  {
   "cell_type": "code",
   "execution_count": 11,
   "metadata": {
    "collapsed": false
   },
   "outputs": [
    {
     "data": {
      "text/plain": [
       "array([[ 0.97741932, -9.34080197],\n",
       "       [ 0.80757159, -9.35061984],\n",
       "       [ 0.86009505, -9.40790775],\n",
       "       [ 0.02815771, -9.21173744],\n",
       "       [ 0.96858647, -9.67656964]])"
      ]
     },
     "execution_count": 11,
     "metadata": {},
     "output_type": "execute_result"
    }
   ],
   "source": [
    "np.append(x0, y0).reshape(2,5).transpose()"
   ]
  },
  {
   "cell_type": "code",
   "execution_count": 12,
   "metadata": {
    "collapsed": false
   },
   "outputs": [
    {
     "data": {
      "text/plain": [
       "<matplotlib.text.Text at 0x17b49da0>"
      ]
     },
     "execution_count": 12,
     "metadata": {},
     "output_type": "execute_result"
    },
    {
     "data": {
      "image/png": "[encoded data removed]",
      "text/plain": [
       "<matplotlib.figure.Figure at 0x179a0f60>"
      ]
     },
     "metadata": {},
     "output_type": "display_data"
    }
   ],
   "source": [
    "Sdata=np.append(x0, y0).reshape(2,5).transpose()\n",
    "scatter(Sdata[:,0],Sdata[:,1])\n",
    "grid(1)\n",
    "xlabel('x')\n",
    "ylabel('y')"
   ]
  },
  {
   "cell_type": "code",
   "execution_count": null,
   "metadata": {
    "collapsed": true
   },
   "outputs": [],
   "source": []
  }
 ],
 "metadata": {
  "kernelspec": {
   "display_name": "Python 3",
   "language": "python",
   "name": "python3"
  },
  "language_info": {
   "codemirror_mode": {
    "name": "ipython",
    "version": 3
   },
   "file_extension": ".py",
   "mimetype": "text/x-python",
   "name": "python",
   "nbconvert_exporter": "python",
   "pygments_lexer": "ipython3",
   "version": "3.4.4"
  }
 },
 "nbformat": 4,
 "nbformat_minor": 0
}
