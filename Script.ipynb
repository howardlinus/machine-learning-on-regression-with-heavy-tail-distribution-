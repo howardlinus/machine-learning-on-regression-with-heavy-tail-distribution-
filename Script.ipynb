{
 "cells": [
  {
   "cell_type": "code",
   "execution_count": 4,
   "metadata": {
    "collapsed": false
   },
   "outputs": [
    {
     "data": {
      "text/plain": [
       "'C:\\\\Users\\\\linnovision\\\\Problem1_6\\\\Problem1'"
      ]
     },
     "execution_count": 4,
     "metadata": {},
     "output_type": "execute_result"
    }
   ],
   "source": [
    "from matplotlib.pyplot import *\n",
    "import matplotlib.pyplot as plt\n",
    "import numpy as np\n",
    "import os\n",
    "%matplotlib inline\n",
    "os.getcwd()"
   ]
  },
  {
   "cell_type": "code",
   "execution_count": 2,
   "metadata": {
    "collapsed": false
   },
   "outputs": [
    {
     "data": {
      "text/latex": [
       "$$F(k) = \\int_{-\\infty}^{\\infty} f(x) e^{2\\pi i k} dx$$"
      ],
      "text/plain": [
       "<IPython.core.display.Math object>"
      ]
     },
     "metadata": {},
     "output_type": "display_data"
    }
   ],
   "source": [
    "from IPython.display import display, Math, Latex\n",
    "display(Math(r'F(k) = \\int_{-\\infty}^{\\infty} f(x) e^{2\\pi i k} dx'))\n"
   ]
  },
  {
   "cell_type": "code",
   "execution_count": 5,
   "metadata": {
    "collapsed": true
   },
   "outputs": [],
   "source": [
    "path='..\\\\Problem1\\\\'\n",
    "filename1='data_1_1.csv'\n",
    "filename2='data_1_2.csv'\n",
    "filename3='data_1_3.csv'\n",
    "filename4='data_1_4.csv'\n",
    "filename5='data_1_5.csv'\n",
    "data_1_1 = np.genfromtxt(path+filename1, delimiter=\",\")[1:,:]\n",
    "data_1_2 = np.genfromtxt(path+filename2, delimiter=\",\")[1:,:]\n",
    "data_1_3 = np.genfromtxt(path+filename3, delimiter=\",\")[1:,:]\n",
    "data_1_4 = np.genfromtxt(path+filename4, delimiter=\",\")[1:,:]\n",
    "data_1_5 = np.genfromtxt(path+filename5, delimiter=\",\")[1:,:]"
   ]
  },
  {
   "cell_type": "code",
   "execution_count": 4,
   "metadata": {
    "collapsed": false
   },
   "outputs": [],
   "source": [
    "# Regression Class 1:\n",
    "class Heavy_tail_regression1(object):\n",
    "    # Define classs parameters\n",
    "    # model noise with c*x + d\n",
    "    c = np.random.random()\n",
    "    d = np.random.random()\n",
    "    \n",
    "    def __init__(self, lambd=0):                \n",
    "        #Weights (parameters)\n",
    "        self.a = np.random.random()\n",
    "        self.b = np.random.random()\n",
    "            \n",
    "        #Regularization Parameter:\n",
    "        self.lambd = lambd\n",
    "                    \n",
    "            \n",
    "    def costFunction(self, x, y):\n",
    "        #Compute cost for given x,y, use weights already stored in class.\n",
    "        #sigma_2 = (self.c*x)**2 + self.d**2\n",
    "        c=Heavy_tail_regression1.c\n",
    "        d=Heavy_tail_regression1.d\n",
    "        sigma_2 = (c*x)**2 + d**2\n",
    "        yHat = self.a*x+self.b\n",
    "        J =  0.5*sum((y-yHat)**2/sigma_2)/x.shape[0] + 0.5*sum(np.log(sigma_2))/x.shape[0]+(self.lambd/2)*(sum(self.getParams()**2))\n",
    "        return J\n",
    "        \n",
    "    def costFunctionPrime(self, x, y):\n",
    "        #Compute derivative with respect to a, b, c, d for a given x and y:\n",
    "        #sigma_2 = (self.c*x)**2 + self.d**2\n",
    "        c=Heavy_tail_regression1.c\n",
    "        d=Heavy_tail_regression1.d\n",
    "        sigma_2 = (c*x)**2 + d**2\n",
    "        yHat = self.a*x+self.b\n",
    "        dJda = sum(-x*(y-yHat)/sigma_2)/x.shape[0] + self.lambd*self.a\n",
    "        dJdb = sum(-(y-yHat)/sigma_2)/x.shape[0] + self.lambd*self.b\n",
    "        dJdc = sum(c*x**2/sigma_2)/x.shape[0]-sum(c*x**2*(y-yHat)**2/sigma_2**2)/x.shape[0] + self.lambd*c\n",
    "        dJdd = sum(d/sigma_2)/x.shape[0]-sum(d*(y-yHat)**2/sigma_2**2)/x.shape[0] + self.lambd*d       \n",
    "        \n",
    "        return dJda, dJdb, dJdc, dJdd\n",
    "\n",
    "    def computeGradients(self, x, y, L=0):       \n",
    "        dJda, dJdb, dJdc, dJdd = self.costFunctionPrime(x, y)\n",
    "        if L==1:\n",
    "            return np.asarray((dJdc, dJdd))\n",
    "        elif L==2:\n",
    "            return np.asarray((dJda, dJdb))\n",
    "        else:\n",
    "            return np.asarray((dJda, dJdb, dJdc, dJdd))\n",
    "    \n",
    "    def getParams(self, L=0):\n",
    "        #Get a, b, c, d :\n",
    "        if L==1:\n",
    "            params = np.asarray((Heavy_tail_regression1.c, Heavy_tail_regression1.d))\n",
    "        elif L==2:\n",
    "            params = np.asarray((self.a, self.b))\n",
    "        else:\n",
    "            params = np.asarray((self.a, self.b, Heavy_tail_regression1.c, Heavy_tail_regression1.d))\n",
    "        return params\n",
    "    \n",
    "    def setParams(self, params, L=0):\n",
    "        #Set a, b, c, d :\n",
    "        if L==1:\n",
    "            Heavy_tail_regression1.c = params[0]\n",
    "            Heavy_tail_regression1.d = params[1]\n",
    "        elif L==2:\n",
    "            self.a = params[0]\n",
    "            self.b = params[1]\n",
    "        else:\n",
    "            self.a = params[0]\n",
    "            self.b = params[1]\n",
    "            Heavy_tail_regression1.c = params[2]\n",
    "            Heavy_tail_regression1.d = params[3]\n",
    "        \n",
    "    def computeNumericalGradients(self, x, y):\n",
    "        paramsInitial = self.getParams()\n",
    "        numgrad = np.zeros(len(paramsInitial))\n",
    "        perturb = np.zeros(len(paramsInitial))        \n",
    "        e = 1e-5\n",
    "        \n",
    "        for n in range(len(paramsInitial)):\n",
    "            #Set perturbation vector\n",
    "            perturb[n] = e\n",
    "            self.setParams(paramsInitial + perturb)\n",
    "            loss2 = self.costFunction(x, y)\n",
    "            \n",
    "            self.setParams(paramsInitial - perturb)\n",
    "            loss1 = self.costFunction(x, y)\n",
    "\n",
    "            #Compute Numerical Gradient\n",
    "            numgrad[n] = (loss2 - loss1) / (2*e)\n",
    "\n",
    "            #Return the value we changed to zero:\n",
    "            perturb[n] = 0\n",
    "            \n",
    "        #Return Params to original value:\n",
    "        self.setParams(paramsInitial)\n",
    "\n",
    "        return numgrad \n",
    "    \n",
    "    def dataGeneration(self, x1=-5, x2=5, N=100):\n",
    "        c=abs(Heavy_tail_regression1.c)\n",
    "        d=abs(Heavy_tail_regression1.d)\n",
    "\n",
    "        np.random.seed()\n",
    "        x=np.random.uniform(x1,x2,N)\n",
    "        c_randn=np.random.normal(0,c,N)\n",
    "        d_randn=np.random.normal(0,d,N)\n",
    "        y = self.a*x + self.b + c_randn*x + d_randn        \n",
    "        \n",
    "        return np.append(x, y).reshape(N,2)\n",
    "      \n",
    "    \n",
    "    \n",
    "    "
   ]
  },
  {
   "cell_type": "code",
   "execution_count": null,
   "metadata": {
    "collapsed": false
   },
   "outputs": [],
   "source": []
  },
  {
   "cell_type": "code",
   "execution_count": 70,
   "metadata": {
    "collapsed": false
   },
   "outputs": [
    {
     "data": {
      "text/plain": [
       "5.8829428087369815e-09"
      ]
     },
     "execution_count": 70,
     "metadata": {},
     "output_type": "execute_result"
    }
   ],
   "source": [
    "test=Heavy_tail_regression1(lambd=0.0001)\n",
    "#test.setParams([ 0.46527736,  0.45757724,  -0.92293574,  -0.86094944])\n",
    "test.getParams()\n",
    "numgrad = test.computeNumericalGradients(data_1_1[:,0],data_1_1[:,1])\n",
    "grad = test.computeGradients(data_1_1[:,0],data_1_1[:,1])\n",
    "np.linalg.norm(grad-numgrad)/np.linalg.norm(grad+numgrad)\n"
   ]
  },
  {
   "cell_type": "code",
   "execution_count": 63,
   "metadata": {
    "collapsed": false
   },
   "outputs": [],
   "source": [
    "np.random.seed()\n",
    "np.random.random()\n",
    "x=np.random.uniform(-10, 10, 4)\n",
    "c_randn=np.random.normal(0, 1, 4)\n",
    "d_randn=np.random.normal(0, 1, 4)\n",
    "y=c_randn*x + d_randn"
   ]
  },
  {
   "cell_type": "code",
   "execution_count": null,
   "metadata": {
    "collapsed": true
   },
   "outputs": [],
   "source": []
  },
  {
   "cell_type": "code",
   "execution_count": 90,
   "metadata": {
    "collapsed": false
   },
   "outputs": [
    {
     "data": {
      "text/plain": [
       "<matplotlib.text.Text at 0x7732f98>"
      ]
     },
     "execution_count": 90,
     "metadata": {},
     "output_type": "execute_result"
    },
    {
     "data": {
      "image/png": "[encoded data removed]",
      "text/plain": [
       "<matplotlib.figure.Figure at 0x780f5c0>"
      ]
     },
     "metadata": {},
     "output_type": "display_data"
    }
   ],
   "source": [
    "Rtest=Heavy_tail_regression1(lambd=0.0001)\n",
    "Rdata=Rtest.dataGeneration()\n",
    "scatter(Rdata[:,0],Rdata[:,1])\n",
    "grid(1)\n",
    "xlabel('x')\n",
    "ylabel('y')"
   ]
  },
  {
   "cell_type": "code",
   "execution_count": 29,
   "metadata": {
    "collapsed": false,
    "scrolled": false
   },
   "outputs": [],
   "source": [
    "\n"
   ]
  },
  {
   "cell_type": "code",
   "execution_count": null,
   "metadata": {
    "collapsed": true
   },
   "outputs": [],
   "source": []
  },
  {
   "cell_type": "code",
   "execution_count": 6,
   "metadata": {
    "collapsed": false,
    "scrolled": true
   },
   "outputs": [
    {
     "data": {
      "text/plain": [
       "<matplotlib.text.Text at 0x7987f60>"
      ]
     },
     "execution_count": 6,
     "metadata": {},
     "output_type": "execute_result"
    },
    {
     "data": {
      "image/png": "[encoded data removed]",
      "text/plain": [
       "<matplotlib.figure.Figure at 0x79596a0>"
      ]
     },
     "metadata": {},
     "output_type": "display_data"
    }
   ],
   "source": [
    "subplot(1,1,1)\n",
    "scatter(data_1_5[:,0],data_1_5[:,1])\n",
    "grid(1)\n",
    "xlabel('x')\n",
    "ylabel('y')"
   ]
  },
  {
   "cell_type": "code",
   "execution_count": 190,
   "metadata": {
    "collapsed": false
   },
   "outputs": [
    {
     "data": {
      "text/plain": [
       "array([ 0.41468334,  0.50990658,  1.89897769, -1.13051933])"
      ]
     },
     "execution_count": 190,
     "metadata": {},
     "output_type": "execute_result"
    }
   ],
   "source": [
    "Reg=Heavy_tail_regression1(lambd=0.0001)\n",
    "Reg.getParams()"
   ]
  },
  {
   "cell_type": "code",
   "execution_count": null,
   "metadata": {
    "collapsed": false
   },
   "outputs": [],
   "source": []
  },
  {
   "cell_type": "code",
   "execution_count": 191,
   "metadata": {
    "collapsed": false
   },
   "outputs": [
    {
     "data": {
      "text/plain": [
       "array([ 0.3046009 , -0.02172171,  0.03943316, -0.03369966])"
      ]
     },
     "execution_count": 191,
     "metadata": {},
     "output_type": "execute_result"
    }
   ],
   "source": [
    "numgrad = Reg.computeNumericalGradients(data_1_5[:,0],data_1_5[:,1])\n",
    "numgrad"
   ]
  },
  {
   "cell_type": "code",
   "execution_count": 38,
   "metadata": {
    "collapsed": false
   },
   "outputs": [
    {
     "data": {
      "text/plain": [
       "array([  6.31464297,  -0.8673458 , -39.60003991,  -2.64592537])"
      ]
     },
     "execution_count": 38,
     "metadata": {},
     "output_type": "execute_result"
    }
   ],
   "source": [
    "grad = Reg.computeGradients(data_1_5[:,0],data_1_5[:,1])\n",
    "grad"
   ]
  },
  {
   "cell_type": "code",
   "execution_count": 39,
   "metadata": {
    "collapsed": false
   },
   "outputs": [
    {
     "data": {
      "text/plain": [
       "4.4535494553993121e-10"
      ]
     },
     "execution_count": 39,
     "metadata": {},
     "output_type": "execute_result"
    }
   ],
   "source": [
    "np.linalg.norm(grad-numgrad)/np.linalg.norm(grad+numgrad)"
   ]
  },
  {
   "cell_type": "code",
   "execution_count": 191,
   "metadata": {
    "collapsed": false
   },
   "outputs": [],
   "source": [
    "from scipy import optimize\n",
    "class trainer(object):\n",
    "    def __init__(self, Reg):\n",
    "        #Make Local reference to regression class:\n",
    "        self.Reg = Reg\n",
    "        \n",
    "    def callbackF(self, params):\n",
    "        self.Reg.setParams(params)\n",
    "        self.J.append(self.Reg.costFunction(self.x, self.y))\n",
    "        self.testJ.append(self.Reg.costFunction(self.testX, self.testY))\n",
    "\n",
    "    def callbackFL1(self, params):\n",
    "        self.Reg.setParams(params, L=1)\n",
    "        self.J.append(self.Reg.costFunction(self.x, self.y))\n",
    "        self.testJ.append(self.Reg.costFunction(self.testX, self.testY))\n",
    "        \n",
    "    def callbackFL2(self, params):\n",
    "        self.Reg.setParams(params, L=2)\n",
    "        self.J.append(self.Reg.costFunction(self.x, self.y))\n",
    "        self.testJ.append(self.Reg.costFunction(self.testX, self.testY))\n",
    "        \n",
    "    def costFunctionWrapper(self, params, x, y):\n",
    "        self.Reg.setParams(params)\n",
    "        cost = self.Reg.costFunction(x, y)\n",
    "        grad = self.Reg.computeGradients(x,y)\n",
    "        \n",
    "        return cost, grad\n",
    "        \n",
    "    def costFunctionWrapperL1(self, params, x, y):\n",
    "        self.Reg.setParams(params, L=1)\n",
    "        cost = self.Reg.costFunction(x, y)\n",
    "        grad = self.Reg.computeGradients(x,y,L=1)\n",
    "        \n",
    "        return cost, grad\n",
    "\n",
    "    def costFunctionWrapperL2(self, params, x, y):\n",
    "        self.Reg.setParams(params, L=2)\n",
    "        cost = self.Reg.costFunction(x, y)\n",
    "        grad = self.Reg.computeGradients(x,y,L=2)\n",
    "        \n",
    "        return cost, grad\n",
    "\n",
    "    def train(self, trainX, trainY, testX, testY, L=0):\n",
    "        #Make an internal variable for the callback function:\n",
    "        self.x = trainX\n",
    "        self.y = trainY\n",
    "        \n",
    "        self.testX = testX\n",
    "        self.testY = testY\n",
    "\n",
    "        #Make empty list to store training costs:\n",
    "        self.J = []\n",
    "        self.testJ = []\n",
    "        \n",
    "        if L==1:\n",
    "            params0 = self.Reg.getParams(L=1)\n",
    "            options = {'maxiter': 200, 'disp' : True}\n",
    "            _res = optimize.minimize(self.costFunctionWrapperL1, params0, jac=True, method='BFGS', \\\n",
    "                                 args=(trainX, trainY), options=options, callback=self.callbackFL1)\n",
    "            self.Reg.setParams(_res.x, L=1)\n",
    "        elif L==2:\n",
    "            params0 = self.Reg.getParams(L=2)\n",
    "            options = {'maxiter': 200, 'disp' : True}\n",
    "            _res = optimize.minimize(self.costFunctionWrapperL2, params0, jac=True, method='BFGS', \\\n",
    "                                 args=(trainX, trainY), options=options, callback=self.callbackFL2)\n",
    "            self.Reg.setParams(_res.x, L=2)\n",
    "        else:    \n",
    "            params0 = self.Reg.getParams()\n",
    "            options = {'maxiter': 200, 'disp' : True}\n",
    "            _res = optimize.minimize(self.costFunctionWrapper, params0, jac=True, method='BFGS', \\\n",
    "                                 args=(trainX, trainY), options=options, callback=self.callbackF)\n",
    "            self.Reg.setParams(_res.x)\n",
    "            \n",
    "        self.optimizationResults = _res\n",
    "\n"
   ]
  },
  {
   "cell_type": "markdown",
   "metadata": {
    "collapsed": true
   },
   "source": [
    "this is just a test $$c = \\sqrt{a^2 + b^2} $$  $$\\Delta\\hat{y}$$  next line\n",
    "    the end"
   ]
  },
  {
   "cell_type": "code",
   "execution_count": 194,
   "metadata": {
    "collapsed": false,
    "scrolled": true
   },
   "outputs": [],
   "source": [
    "np.random.shuffle(data_1_1)\n",
    "np.random.shuffle(data_1_2)\n",
    "np.random.shuffle(data_1_3)\n",
    "np.random.shuffle(data_1_4)\n",
    "np.random.shuffle(data_1_5)\n",
    "train_data_1_1 = data_1_1[:int(len(data_1_1)*.7)];test_data_1_1 = data_1_1[int(len(data_1_1)*.7):]\n",
    "train_data_1_2 = data_1_2[:int(len(data_1_2)*.7)];test_data_1_2 = data_1_2[int(len(data_1_2)*.7):]\n",
    "train_data_1_3 = data_1_3[:int(len(data_1_3)*.7)];test_data_1_3 = data_1_3[int(len(data_1_3)*.7):]\n",
    "train_data_1_4 = data_1_4[:int(len(data_1_4)*.7)];test_data_1_4 = data_1_4[int(len(data_1_4)*.7):]\n",
    "train_data_1_5 = data_1_5[:int(len(data_1_5)*.7)];test_data_1_5 = data_1_5[int(len(data_1_5)*.7):]"
   ]
  },
  {
   "cell_type": "code",
   "execution_count": null,
   "metadata": {
    "collapsed": true
   },
   "outputs": [],
   "source": []
  },
  {
   "cell_type": "code",
   "execution_count": 42,
   "metadata": {
    "collapsed": false
   },
   "outputs": [
    {
     "ename": "NameError",
     "evalue": "name 'train5' is not defined",
     "output_type": "error",
     "traceback": [
      "\u001b[1;31m---------------------------------------------------------------------------\u001b[0m",
      "\u001b[1;31mNameError\u001b[0m                                 Traceback (most recent call last)",
      "\u001b[1;32m<ipython-input-42-57c886c5dff8>\u001b[0m in \u001b[0;36m<module>\u001b[1;34m()\u001b[0m\n\u001b[1;32m----> 1\u001b[1;33m \u001b[1;33m(\u001b[0m\u001b[0mtrain5\u001b[0m\u001b[1;33m.\u001b[0m\u001b[0mshape\u001b[0m\u001b[1;33m,\u001b[0m \u001b[0mcv5\u001b[0m\u001b[1;33m.\u001b[0m\u001b[0mshape\u001b[0m\u001b[1;33m,\u001b[0m \u001b[0mtest5\u001b[0m\u001b[1;33m.\u001b[0m\u001b[0mshape\u001b[0m\u001b[1;33m)\u001b[0m\u001b[1;33m\u001b[0m\u001b[0m\n\u001b[0m",
      "\u001b[1;31mNameError\u001b[0m: name 'train5' is not defined"
     ]
    }
   ],
   "source": [
    "(train5.shape, cv5.shape, test5.shape)"
   ]
  },
  {
   "cell_type": "code",
   "execution_count": 20,
   "metadata": {
    "collapsed": false
   },
   "outputs": [
    {
     "data": {
      "text/plain": [
       "array([ 2.37543458,  5.57595991])"
      ]
     },
     "execution_count": 20,
     "metadata": {},
     "output_type": "execute_result"
    }
   ],
   "source": [
    "train_data_1_4[10,:]"
   ]
  },
  {
   "cell_type": "code",
   "execution_count": 77,
   "metadata": {
    "collapsed": false
   },
   "outputs": [],
   "source": [
    "Reg11=Heavy_tail_regression1(lambd=0.0001)\n",
    "Reg12=Heavy_tail_regression1(lambd=0.0001)\n",
    "Reg13=Heavy_tail_regression1(lambd=0.0001)\n",
    "Reg14=Heavy_tail_regression1(lambd=0.0001)\n",
    "Reg15=Heavy_tail_regression1(lambd=0.0001)\n",
    "T11 = trainer(Reg11)\n",
    "T12 = trainer(Reg12)\n",
    "T13 = trainer(Reg13)\n",
    "T14 = trainer(Reg14)\n",
    "T15 = trainer(Reg15)"
   ]
  },
  {
   "cell_type": "code",
   "execution_count": 78,
   "metadata": {
    "collapsed": false,
    "scrolled": true
   },
   "outputs": [
    {
     "name": "stdout",
     "output_type": "stream",
     "text": [
      "Optimization terminated successfully.\n",
      "         Current function value: 1.832394\n",
      "         Iterations: 29\n",
      "         Function evaluations: 48\n",
      "         Gradient evaluations: 48\n"
     ]
    }
   ],
   "source": [
    "T11.train(train_data_1_1[:,0], train_data_1_1[:,1], test_data_1_1[:,0], test_data_1_1[:,1])"
   ]
  },
  {
   "cell_type": "code",
   "execution_count": 79,
   "metadata": {
    "collapsed": false
   },
   "outputs": [
    {
     "data": {
      "text/plain": [
       "<matplotlib.text.Text at 0x8055c88>"
      ]
     },
     "execution_count": 79,
     "metadata": {},
     "output_type": "execute_result"
    },
    {
     "data": {
      "image/png": "[encoded data removed]",
      "text/plain": [
       "<matplotlib.figure.Figure at 0x86e9dd8>"
      ]
     },
     "metadata": {},
     "output_type": "display_data"
    }
   ],
   "source": [
    "plot(T11.J)\n",
    "plot(T11.testJ)\n",
    "grid(1)\n",
    "xlabel('Iterations')\n",
    "ylabel('Cost')"
   ]
  },
  {
   "cell_type": "code",
   "execution_count": 23,
   "metadata": {
    "collapsed": false,
    "scrolled": true
   },
   "outputs": [
    {
     "name": "stdout",
     "output_type": "stream",
     "text": [
      "Optimization terminated successfully.\n",
      "         Current function value: 1.845819\n",
      "         Iterations: 30\n",
      "         Function evaluations: 66\n",
      "         Gradient evaluations: 66\n",
      "Optimization terminated successfully.\n",
      "         Current function value: 2.978397\n",
      "         Iterations: 19\n",
      "         Function evaluations: 20\n",
      "         Gradient evaluations: 20\n",
      "Optimization terminated successfully.\n",
      "         Current function value: 2.507997\n",
      "         Iterations: 16\n",
      "         Function evaluations: 19\n",
      "         Gradient evaluations: 19\n",
      "Optimization terminated successfully.\n",
      "         Current function value: 1.733771\n",
      "         Iterations: 18\n",
      "         Function evaluations: 22\n",
      "         Gradient evaluations: 22\n",
      "Optimization terminated successfully.\n",
      "         Current function value: 2.356431\n",
      "         Iterations: 27\n",
      "         Function evaluations: 34\n",
      "         Gradient evaluations: 34\n"
     ]
    },
    {
     "data": {
      "text/plain": [
       "11.422414729268457"
      ]
     },
     "execution_count": 23,
     "metadata": {},
     "output_type": "execute_result"
    }
   ],
   "source": [
    "T11.train(train_data_1_1[:,0], train_data_1_1[:,1], test_data_1_1[:,0], test_data_1_1[:,1])\n",
    "T12.train(train_data_1_2[:,0], train_data_1_2[:,1], test_data_1_2[:,0], test_data_1_2[:,1])\n",
    "T13.train(train_data_1_3[:,0], train_data_1_3[:,1], test_data_1_3[:,0], test_data_1_3[:,1])\n",
    "T14.train(train_data_1_4[:,0], train_data_1_4[:,1], test_data_1_4[:,0], test_data_1_4[:,1])\n",
    "T15.train(train_data_1_5[:,0], train_data_1_5[:,1], test_data_1_5[:,0], test_data_1_5[:,1])\n",
    "T11.optimizationResults.fun+T12.optimizationResults.fun+T13.optimizationResults.fun+ \\\n",
    "T14.optimizationResults.fun+T15.optimizationResults.fun"
   ]
  },
  {
   "cell_type": "code",
   "execution_count": 27,
   "metadata": {
    "collapsed": false
   },
   "outputs": [
    {
     "data": {
      "text/plain": [
       "(array([ 0.81233796, -0.11154622, -1.42870383, -0.76573043]),\n",
       " array([ 1.1718338 , -1.18867558, -1.42870383, -0.76573043]),\n",
       " array([-0.69162414, -0.45697971, -1.42870383, -0.76573043]),\n",
       " array([ 0.36697853,  0.90488389, -1.42870383, -0.76573043]),\n",
       " array([-0.94680811,  0.62283851, -1.42870383, -0.76573043]))"
      ]
     },
     "execution_count": 27,
     "metadata": {},
     "output_type": "execute_result"
    }
   ],
   "source": [
    "(Reg11.getParams(), Reg12.getParams(), Reg13.getParams(), Reg14.getParams(), Reg15.getParams())"
   ]
  },
  {
   "cell_type": "code",
   "execution_count": 530,
   "metadata": {
    "collapsed": false,
    "scrolled": false
   },
   "outputs": [
    {
     "name": "stdout",
     "output_type": "stream",
     "text": [
      "Optimization terminated successfully.\n",
      "         Current function value: 1.825637\n",
      "         Iterations: 7\n",
      "         Function evaluations: 8\n",
      "         Gradient evaluations: 8\n",
      "Optimization terminated successfully.\n",
      "         Current function value: 2.896965\n",
      "         Iterations: 11\n",
      "         Function evaluations: 12\n",
      "         Gradient evaluations: 12\n",
      "Optimization terminated successfully.\n",
      "         Current function value: 2.981609\n",
      "         Iterations: 13\n",
      "         Function evaluations: 14\n",
      "         Gradient evaluations: 14\n",
      "Optimization terminated successfully.\n",
      "         Current function value: 1.640686\n",
      "         Iterations: 4\n",
      "         Function evaluations: 5\n",
      "         Gradient evaluations: 5\n",
      "Optimization terminated successfully.\n",
      "         Current function value: 2.192878\n",
      "         Iterations: 12\n",
      "         Function evaluations: 32\n",
      "         Gradient evaluations: 30\n",
      "Optimization terminated successfully.\n",
      "         Current function value: 1.908215\n",
      "         Iterations: 0\n",
      "         Function evaluations: 1\n",
      "         Gradient evaluations: 1\n",
      "Optimization terminated successfully.\n",
      "         Current function value: 3.192416\n",
      "         Iterations: 0\n",
      "         Function evaluations: 1\n",
      "         Gradient evaluations: 1\n",
      "Optimization terminated successfully.\n",
      "         Current function value: 3.053556\n",
      "         Iterations: 0\n",
      "         Function evaluations: 1\n",
      "         Gradient evaluations: 1\n",
      "Optimization terminated successfully.\n",
      "         Current function value: 1.658779\n",
      "         Iterations: 0\n",
      "         Function evaluations: 1\n",
      "         Gradient evaluations: 1\n",
      "Optimization terminated successfully.\n",
      "         Current function value: 2.192878\n",
      "         Iterations: 0\n",
      "         Function evaluations: 1\n",
      "         Gradient evaluations: 1\n"
     ]
    },
    {
     "data": {
      "text/plain": [
       "12.005843322846886"
      ]
     },
     "execution_count": 530,
     "metadata": {},
     "output_type": "execute_result"
    }
   ],
   "source": [
    "T1.train(train_data_1_1[:,0], train_data_1_1[:,1], test_data_1_1[:,0], test_data_1_1[:,1], L=1)\n",
    "T2.train(train_data_1_2[:,0], train_data_1_2[:,1], test_data_1_2[:,0], test_data_1_2[:,1], L=1)\n",
    "T3.train(train_data_1_3[:,0], train_data_1_3[:,1], test_data_1_3[:,0], test_data_1_3[:,1], L=1)\n",
    "T4.train(train_data_1_4[:,0], train_data_1_4[:,1], test_data_1_4[:,0], test_data_1_4[:,1], L=1)\n",
    "T5.train(train_data_1_5[:,0], train_data_1_5[:,1], test_data_1_5[:,0], test_data_1_5[:,1], L=1)\n",
    "\n",
    "T1.train(train_data_1_1[:,0], train_data_1_1[:,1], test_data_1_1[:,0], test_data_1_1[:,1], L=2)\n",
    "T2.train(train_data_1_2[:,0], train_data_1_2[:,1], test_data_1_2[:,0], test_data_1_2[:,1], L=2)\n",
    "T3.train(train_data_1_3[:,0], train_data_1_3[:,1], test_data_1_3[:,0], test_data_1_3[:,1], L=2)\n",
    "T4.train(train_data_1_4[:,0], train_data_1_4[:,1], test_data_1_4[:,0], test_data_1_4[:,1], L=2)\n",
    "T5.train(train_data_1_5[:,0], train_data_1_5[:,1], test_data_1_5[:,0], test_data_1_5[:,1], L=2)\n",
    "\n",
    "T1.optimizationResults.fun+T2.optimizationResults.fun+T3.optimizationResults.fun+ \\\n",
    "T4.optimizationResults.fun+T5.optimizationResults.fun"
   ]
  },
  {
   "cell_type": "code",
   "execution_count": null,
   "metadata": {
    "collapsed": false
   },
   "outputs": [],
   "source": []
  },
  {
   "cell_type": "code",
   "execution_count": 427,
   "metadata": {
    "collapsed": false,
    "scrolled": true
   },
   "outputs": [
    {
     "name": "stdout",
     "output_type": "stream",
     "text": [
      "Optimization terminated successfully.\n",
      "         Current function value: 1.770028\n",
      "         Iterations: 27\n",
      "         Function evaluations: 33\n",
      "         Gradient evaluations: 33\n"
     ]
    },
    {
     "data": {
      "text/plain": [
       "array([ 0.9736186 , -0.35527738, -1.85973281,  0.63290689])"
      ]
     },
     "execution_count": 427,
     "metadata": {},
     "output_type": "execute_result"
    }
   ],
   "source": [
    "Reg1=Heavy_tail_regression(lambd=0.0001)\n",
    "T = trainer(Reg1)\n",
    "T.train(train_data_1_1[:,0], train_data_1_1[:,1], test_data_1_1[:,0], test_data_1_1[:,1])\n",
    "tT.Reg.getParams()"
   ]
  },
  {
   "cell_type": "code",
   "execution_count": null,
   "metadata": {
    "collapsed": true
   },
   "outputs": [],
   "source": []
  },
  {
   "cell_type": "code",
   "execution_count": null,
   "metadata": {
    "collapsed": true
   },
   "outputs": [],
   "source": []
  },
  {
   "cell_type": "code",
   "execution_count": 531,
   "metadata": {
    "collapsed": false
   },
   "outputs": [],
   "source": []
  },
  {
   "cell_type": "code",
   "execution_count": 69,
   "metadata": {
    "collapsed": false
   },
   "outputs": [
    {
     "data": {
      "text/plain": [
       "<matplotlib.text.Text at 0x1867e7b8>"
      ]
     },
     "execution_count": 69,
     "metadata": {},
     "output_type": "execute_result"
    },
    {
     "data": {
      "image/png": "[encoded data removed]",
      "text/plain": [
       "<matplotlib.figure.Figure at 0x18754240>"
      ]
     },
     "metadata": {},
     "output_type": "display_data"
    }
   ],
   "source": [
    "plot(T5.J)\n",
    "plot(T1.testJ)\n",
    "grid(1)\n",
    "xlabel('Iterations')\n",
    "ylabel('Cost')"
   ]
  },
  {
   "cell_type": "code",
   "execution_count": 242,
   "metadata": {
    "collapsed": false
   },
   "outputs": [
    {
     "name": "stdout",
     "output_type": "stream",
     "text": [
      "Optimization terminated successfully.\n",
      "         Current function value: 2.883075\n",
      "         Iterations: 16\n",
      "         Function evaluations: 28\n",
      "         Gradient evaluations: 28\n"
     ]
    },
    {
     "data": {
      "text/plain": [
       "array([  1.04731770e+00,  -1.17637465e-01,   2.17588399e+00,\n",
       "         3.40722754e-07])"
      ]
     },
     "execution_count": 242,
     "metadata": {},
     "output_type": "execute_result"
    }
   ],
   "source": [
    "#Reg2=Heavy_tail_regression(lambd=0.0001)\n",
    "#T = trainer(Reg2)\n",
    "T.train(train_data_1_2[:,0], train_data_1_2[:,1], test_data_1_2[:,0], test_data_1_2[:,1])\n",
    "T.Reg.getParams()"
   ]
  },
  {
   "cell_type": "code",
   "execution_count": 243,
   "metadata": {
    "collapsed": false
   },
   "outputs": [
    {
     "data": {
      "text/plain": [
       "<matplotlib.text.Text at 0xb9869e8>"
      ]
     },
     "execution_count": 243,
     "metadata": {},
     "output_type": "execute_result"
    },
    {
     "data": {
      "image/png": "[encoded data removed]",
      "text/plain": [
       "<matplotlib.figure.Figure at 0xba03da0>"
      ]
     },
     "metadata": {},
     "output_type": "display_data"
    }
   ],
   "source": [
    "plot(T.J)\n",
    "plot(T.testJ)\n",
    "grid(1)\n",
    "xlabel('Iterations')\n",
    "ylabel('Cost')"
   ]
  },
  {
   "cell_type": "code",
   "execution_count": 98,
   "metadata": {
    "collapsed": false,
    "scrolled": false
   },
   "outputs": [],
   "source": [
    "# Regression Class 2:\n",
    "class Heavy_tail_regression2(object):\n",
    "    # model noise with c*x**2 + d*x + e\n",
    "    c = np.random.random()\n",
    "    d = np.random.random()\n",
    "    e = np.random.random()\n",
    "    \n",
    "    def __init__(self, lambd=0):        \n",
    "        #Weights (parameters)\n",
    "        self.a = np.random.random()\n",
    "        self.b = np.random.random()\n",
    "            \n",
    "        #Regularization Parameter:\n",
    "        self.lambd = lambd                    \n",
    "            \n",
    "    def costFunction(self, x, y):\n",
    "        #Compute cost for given x,y, use weights already stored in class.\n",
    "        c=Heavy_tail_regression2.c\n",
    "        d=Heavy_tail_regression2.d\n",
    "        e=Heavy_tail_regression2.e\n",
    "        sigma_2 = (c*x**2)**2 + (d*x)**2 + e**2\n",
    "        yHat = self.a*x+self.b\n",
    "        J = 0.5*sum((y-yHat)**2/sigma_2)/x.shape[0] + 0.5*sum(np.log(sigma_2))/x.shape[0]+(self.lambd/2)*(sum(self.getParams()**2))\n",
    "        return J\n",
    "        \n",
    "    def costFunctionPrime(self, x, y):\n",
    "        #Compute derivative with respect to a, b, c, d for a given x and y:\n",
    "        c=Heavy_tail_regression2.c\n",
    "        d=Heavy_tail_regression2.d\n",
    "        e=Heavy_tail_regression2.e\n",
    "        sigma_2 = (c*x**2)**2 + (d*x)**2 + e**2\n",
    "        yHat = self.a*x+self.b\n",
    "        dJda = sum(-x*(y-yHat)/sigma_2)/x.shape[0] + self.lambd*self.a\n",
    "        dJdb = sum(-(y-yHat)/sigma_2)/x.shape[0] + self.lambd*self.b\n",
    "        dJdc = sum(c*x**4/sigma_2)/x.shape[0]-sum(c*x**4*(y-yHat)**2/sigma_2**2)/x.shape[0] + self.lambd*c\n",
    "        dJdd = sum(d*x**2/sigma_2)/x.shape[0]-sum(d*x**2*(y-yHat)**2/sigma_2**2)/x.shape[0] + self.lambd*d\n",
    "        dJde = sum(e/sigma_2)/x.shape[0]-sum(e*(y-yHat)**2/sigma_2**2)/x.shape[0] + self.lambd*e       \n",
    "        \n",
    "        return dJda, dJdb, dJdc, dJdd, dJde\n",
    "\n",
    "    def computeGradients(self, x, y, L=0):       \n",
    "        dJda, dJdb, dJdc, dJdd, dJde = self.costFunctionPrime(x, y)\n",
    "        if L==1:\n",
    "            return np.asarray((dJdc, dJdd, dJde))\n",
    "        elif L==2:\n",
    "            return np.asarray((dJda, dJdb))\n",
    "        else:\n",
    "            return np.asarray((dJda, dJdb, dJdc, dJdd, dJde))\n",
    "    \n",
    "    def getParams(self, L=0):\n",
    "        #Get a, b, c, d :\n",
    "        if L==1:\n",
    "            params = np.asarray((Heavy_tail_regression2.c, Heavy_tail_regression2.d, Heavy_tail_regression2.e))\n",
    "        elif L==2:\n",
    "            params = np.asarray((self.a, self.b))\n",
    "        else:\n",
    "            params = np.asarray((self.a, self.b, Heavy_tail_regression2.c, Heavy_tail_regression2.d, Heavy_tail_regression2.e))\n",
    "        return params\n",
    "    \n",
    "    def setParams(self, params, L=0):\n",
    "        #Set a, b, c, d :\n",
    "        if L==1:\n",
    "            Heavy_tail_regression2.c = params[0]\n",
    "            Heavy_tail_regression2.d = params[1]\n",
    "            Heavy_tail_regression2.e = params[2]\n",
    "        elif L==2:\n",
    "            self.a = params[0]\n",
    "            self.b = params[1]\n",
    "        else:\n",
    "            self.a = params[0]\n",
    "            self.b = params[1]\n",
    "            Heavy_tail_regression2.c = params[2]\n",
    "            Heavy_tail_regression2.d = params[3]\n",
    "            Heavy_tail_regression2.e = params[4]\n",
    "            \n",
    "    def computeNumericalGradients(self, x, y):\n",
    "        paramsInitial = self.getParams()\n",
    "        numgrad = np.zeros(len(paramsInitial))\n",
    "        perturb = np.zeros(len(paramsInitial))        \n",
    "        e = 1e-5\n",
    "        \n",
    "        for n in range(len(paramsInitial)):\n",
    "            #Set perturbation vector\n",
    "            perturb[n] = e\n",
    "            self.setParams(paramsInitial + perturb)\n",
    "            loss2 = self.costFunction(x, y)\n",
    "            \n",
    "            self.setParams(paramsInitial - perturb)\n",
    "            loss1 = self.costFunction(x, y)\n",
    "\n",
    "            #Compute Numerical Gradient\n",
    "            numgrad[n] = (loss2 - loss1) / (2*e)\n",
    "\n",
    "            #Return the value we changed to zero:\n",
    "            perturb[n] = 0\n",
    "            \n",
    "        #Return Params to original value:\n",
    "        self.setParams(paramsInitial)\n",
    "\n",
    "        return numgrad \n",
    "    \n",
    "    def dataGeneration(self, x1=-5, x2=5, N=100):\n",
    "        c=Heavy_tail_regression2.c\n",
    "        d=Heavy_tail_regression2.d\n",
    "        e=Heavy_tail_regression2.e\n",
    "\n",
    "        np.random.seed()\n",
    "        x=np.random.uniform(x1,x2,N)\n",
    "        c_randn=np.random.normal(0,c,N)\n",
    "        d_randn=np.random.normal(0,d,N)\n",
    "        e_randn=np.random.normal(0,e,N)\n",
    "        y = self.a*x + self.b + c_randn*x**2 + d_randn*x + e_randn        \n",
    "        \n",
    "        return np.append(x, y).reshape(N,2)\n"
   ]
  },
  {
   "cell_type": "code",
   "execution_count": 103,
   "metadata": {
    "collapsed": false
   },
   "outputs": [
    {
     "data": {
      "text/plain": [
       "array([ 0.64324978,  0.89268818,  0.19187158,  0.22638629,  0.55905207])"
      ]
     },
     "execution_count": 103,
     "metadata": {},
     "output_type": "execute_result"
    }
   ],
   "source": [
    "Regr2=Heavy_tail_regression2(lambd=0.0001)\n",
    "Regr2.getParams()"
   ]
  },
  {
   "cell_type": "code",
   "execution_count": 104,
   "metadata": {
    "collapsed": false
   },
   "outputs": [
    {
     "data": {
      "text/plain": [
       "array([ 1.31704313, -0.01520288, -5.81990313, -1.30042943, -2.2885583 ])"
      ]
     },
     "execution_count": 104,
     "metadata": {},
     "output_type": "execute_result"
    }
   ],
   "source": [
    "numgrad = Regr2.computeNumericalGradients(data_1_1[:,0],data_1_1[:,1])\n",
    "numgrad"
   ]
  },
  {
   "cell_type": "code",
   "execution_count": 105,
   "metadata": {
    "collapsed": false
   },
   "outputs": [
    {
     "data": {
      "text/plain": [
       "array([ 1.31704313, -0.01520288, -5.8199031 , -1.30042943, -2.2885583 ])"
      ]
     },
     "execution_count": 105,
     "metadata": {},
     "output_type": "execute_result"
    }
   ],
   "source": [
    "grad = Regr2.computeGradients(data_1_1[:,0],data_1_1[:,1])\n",
    "grad"
   ]
  },
  {
   "cell_type": "code",
   "execution_count": 106,
   "metadata": {
    "collapsed": false
   },
   "outputs": [
    {
     "data": {
      "text/plain": [
       "2.4017665039751771e-09"
      ]
     },
     "execution_count": 106,
     "metadata": {},
     "output_type": "execute_result"
    }
   ],
   "source": [
    "np.linalg.norm(grad-numgrad)/np.linalg.norm(grad+numgrad)"
   ]
  },
  {
   "cell_type": "code",
   "execution_count": null,
   "metadata": {
    "collapsed": true
   },
   "outputs": [],
   "source": []
  },
  {
   "cell_type": "code",
   "execution_count": 122,
   "metadata": {
    "collapsed": true
   },
   "outputs": [],
   "source": [
    "Reg21=Heavy_tail_regression2(lambd=0.0001)\n",
    "Reg22=Heavy_tail_regression2(lambd=0.0001)\n",
    "Reg23=Heavy_tail_regression2(lambd=0.0001)\n",
    "Reg24=Heavy_tail_regression2(lambd=0.0001)\n",
    "Reg25=Heavy_tail_regression2(lambd=0.0001)\n",
    "T21 = trainer(Reg21)\n",
    "T22 = trainer(Reg22)\n",
    "T23 = trainer(Reg23)\n",
    "T24 = trainer(Reg24)\n",
    "T25 = trainer(Reg25)"
   ]
  },
  {
   "cell_type": "code",
   "execution_count": 123,
   "metadata": {
    "collapsed": false
   },
   "outputs": [
    {
     "name": "stdout",
     "output_type": "stream",
     "text": [
      "Optimization terminated successfully.\n",
      "         Current function value: 1.729332\n",
      "         Iterations: 20\n",
      "         Function evaluations: 21\n",
      "         Gradient evaluations: 21\n"
     ]
    },
    {
     "data": {
      "text/plain": [
       "1.7293318183250306"
      ]
     },
     "execution_count": 123,
     "metadata": {},
     "output_type": "execute_result"
    }
   ],
   "source": [
    "T21.train(train_data_1_1[:,0], train_data_1_1[:,1], test_data_1_1[:,0], test_data_1_1[:,1])\n",
    "T21.optimizationResults.fun"
   ]
  },
  {
   "cell_type": "code",
   "execution_count": 124,
   "metadata": {
    "collapsed": false
   },
   "outputs": [
    {
     "data": {
      "text/plain": [
       "<matplotlib.text.Text at 0x185c5240>"
      ]
     },
     "execution_count": 124,
     "metadata": {},
     "output_type": "execute_result"
    },
    {
     "data": {
      "image/png": "[encoded data removed]",
      "text/plain": [
       "<matplotlib.figure.Figure at 0x19246668>"
      ]
     },
     "metadata": {},
     "output_type": "display_data"
    }
   ],
   "source": [
    "plot(T21.J)\n",
    "plot(T21.testJ)\n",
    "grid(1)\n",
    "xlabel('Iterations')\n",
    "ylabel('Cost')"
   ]
  },
  {
   "cell_type": "code",
   "execution_count": null,
   "metadata": {
    "collapsed": true
   },
   "outputs": [],
   "source": []
  },
  {
   "cell_type": "code",
   "execution_count": 125,
   "metadata": {
    "collapsed": false
   },
   "outputs": [
    {
     "name": "stdout",
     "output_type": "stream",
     "text": [
      "Optimization terminated successfully.\n",
      "         Current function value: 1.729332\n",
      "         Iterations: 0\n",
      "         Function evaluations: 1\n",
      "         Gradient evaluations: 1\n",
      "Optimization terminated successfully.\n",
      "         Current function value: 2.508720\n",
      "         Iterations: 22\n",
      "         Function evaluations: 27\n",
      "         Gradient evaluations: 27\n",
      "Optimization terminated successfully.\n",
      "         Current function value: 2.669054\n",
      "         Iterations: 28\n",
      "         Function evaluations: 36\n",
      "         Gradient evaluations: 36\n",
      "Optimization terminated successfully.\n",
      "         Current function value: 1.805991\n",
      "         Iterations: 74\n",
      "         Function evaluations: 111\n",
      "         Gradient evaluations: 111\n",
      "Optimization terminated successfully.\n",
      "         Current function value: 2.339195\n",
      "         Iterations: 18\n",
      "         Function evaluations: 25\n",
      "         Gradient evaluations: 25\n"
     ]
    },
    {
     "data": {
      "text/plain": [
       "11.052292716224262"
      ]
     },
     "execution_count": 125,
     "metadata": {},
     "output_type": "execute_result"
    }
   ],
   "source": [
    "T21.train(train_data_1_1[:,0], train_data_1_1[:,1], test_data_1_1[:,0], test_data_1_1[:,1])\n",
    "T22.train(train_data_1_2[:,0], train_data_1_2[:,1], test_data_1_2[:,0], test_data_1_2[:,1])\n",
    "T23.train(train_data_1_3[:,0], train_data_1_3[:,1], test_data_1_3[:,0], test_data_1_3[:,1])\n",
    "T24.train(train_data_1_4[:,0], train_data_1_4[:,1], test_data_1_4[:,0], test_data_1_4[:,1])\n",
    "T25.train(train_data_1_5[:,0], train_data_1_5[:,1], test_data_1_5[:,0], test_data_1_5[:,1])\n",
    "T21.optimizationResults.fun+T22.optimizationResults.fun+T23.optimizationResults.fun+ \\\n",
    "T24.optimizationResults.fun+T25.optimizationResults.fun"
   ]
  },
  {
   "cell_type": "code",
   "execution_count": null,
   "metadata": {
    "collapsed": true
   },
   "outputs": [],
   "source": []
  },
  {
   "cell_type": "code",
   "execution_count": null,
   "metadata": {
    "collapsed": true
   },
   "outputs": [],
   "source": []
  },
  {
   "cell_type": "code",
   "execution_count": 99,
   "metadata": {
    "collapsed": true
   },
   "outputs": [],
   "source": [
    "# Regression Class 3:\n",
    "class Heavy_tail_regression3(object):\n",
    "    # model noise with c*x**3 + d*x**2 + e*x + f\n",
    "    c = np.random.random()\n",
    "    d = np.random.random()\n",
    "    e = np.random.random()\n",
    "    f = np.random.random()\n",
    "    \n",
    "    def __init__(self, lambd=0):        \n",
    "        #Weights (parameters)\n",
    "        self.a = np.random.random()\n",
    "        self.b = np.random.random()\n",
    "            \n",
    "        #Regularization Parameter:\n",
    "        self.lambd = lambd\n",
    "                    \n",
    "            \n",
    "    def costFunction(self, x, y):\n",
    "        #Compute cost for given x,y, use weights already stored in class.\n",
    "        c=Heavy_tail_regression3.c\n",
    "        d=Heavy_tail_regression3.d\n",
    "        e=Heavy_tail_regression3.e\n",
    "        f=Heavy_tail_regression3.f\n",
    "        sigma_2 = (c*x**3)**2 + (d*x**2)**2 + (e*x)**2 + f**2\n",
    "        yHat = self.a*x+self.b\n",
    "        J = 0.5*sum((y-yHat)**2/sigma_2)/x.shape[0] + 0.5*sum(np.log(sigma_2))/x.shape[0]+(self.lambd/2)*(sum(self.getParams()**2))\n",
    "        return J\n",
    "        \n",
    "    def costFunctionPrime(self, x, y):\n",
    "        #Compute derivative with respect to a, b, c, d, e, f for a given x and y:\n",
    "        c=Heavy_tail_regression3.c\n",
    "        d=Heavy_tail_regression3.d\n",
    "        e=Heavy_tail_regression3.e\n",
    "        f=Heavy_tail_regression3.f\n",
    "        sigma_2 = (c*x**3)**2 + (d*x**2)**2 + (e*x)**2 + f**2\n",
    "        yHat = self.a*x+self.b\n",
    "        dJda = sum(-x*(y-yHat)/sigma_2)/x.shape[0] + self.lambd*self.a\n",
    "        dJdb = sum(-(y-yHat)/sigma_2)/x.shape[0] + self.lambd*self.b\n",
    "        dJdc = sum(c*x**6/sigma_2)/x.shape[0]-sum(c*x**6*(y-yHat)**2/sigma_2**2)/x.shape[0] + self.lambd*c        \n",
    "        dJdd = sum(d*x**4/sigma_2)/x.shape[0]-sum(d*x**4*(y-yHat)**2/sigma_2**2)/x.shape[0] + self.lambd*d\n",
    "        dJde = sum(e*x**2/sigma_2)/x.shape[0]-sum(e*x**2*(y-yHat)**2/sigma_2**2)/x.shape[0] + self.lambd*e\n",
    "        dJdf = sum(f/sigma_2)/x.shape[0]-sum(f*(y-yHat)**2/sigma_2**2)/x.shape[0] + self.lambd*f       \n",
    "        \n",
    "        return dJda, dJdb, dJdc, dJdd, dJde, dJdf\n",
    "\n",
    "    def computeGradients(self, x, y, L=0):       \n",
    "        dJda, dJdb, dJdc, dJdd, dJde, dJdf = self.costFunctionPrime(x, y)\n",
    "        if L==1:\n",
    "            return np.asarray((dJdc, dJdd, dJde, dJdf))\n",
    "        elif L==2:\n",
    "            return np.asarray((dJda, dJdb))\n",
    "        else:\n",
    "            return np.asarray((dJda, dJdb, dJdc, dJdd, dJde, dJdf))\n",
    "    \n",
    "    def getParams(self, L=0):\n",
    "        #Get a, b, c, d :\n",
    "        if L==1:\n",
    "            params = np.asarray((Heavy_tail_regression3.c, Heavy_tail_regression3.d, Heavy_tail_regression3.e, Heavy_tail_regression3.f))\n",
    "        elif L==2:\n",
    "            params = np.asarray((self.a, self.b))\n",
    "        else:\n",
    "            params = np.asarray((self.a, self.b, Heavy_tail_regression3.c, Heavy_tail_regression3.d, Heavy_tail_regression3.e, Heavy_tail_regression3.f))\n",
    "        return params\n",
    "    \n",
    "    def setParams(self, params, L=0):\n",
    "        #Set a, b, c, d :\n",
    "        if L==1:\n",
    "            Heavy_tail_regression3.c = params[0]\n",
    "            Heavy_tail_regression3.d = params[1]\n",
    "            Heavy_tail_regression3.e = params[2]\n",
    "            Heavy_tail_regression3.f = params[3]\n",
    "        elif L==2:\n",
    "            self.a = params[0]\n",
    "            self.b = params[1]\n",
    "        else:\n",
    "            self.a = params[0]\n",
    "            self.b = params[1]\n",
    "            Heavy_tail_regression3.c = params[2]\n",
    "            Heavy_tail_regression3.d = params[3]\n",
    "            Heavy_tail_regression3.e = params[4]\n",
    "            Heavy_tail_regression3.f = params[5]\n",
    "            \n",
    "    def computeNumericalGradients(self, x, y):\n",
    "        paramsInitial = self.getParams()\n",
    "        numgrad = np.zeros(len(paramsInitial))\n",
    "        perturb = np.zeros(len(paramsInitial))        \n",
    "        e = 1e-5\n",
    "        \n",
    "        for n in range(len(paramsInitial)):\n",
    "            #Set perturbation vector\n",
    "            perturb[n] = e\n",
    "            self.setParams(paramsInitial + perturb)\n",
    "            loss2 = self.costFunction(x, y)\n",
    "            \n",
    "            self.setParams(paramsInitial - perturb)\n",
    "            loss1 = self.costFunction(x, y)\n",
    "\n",
    "            #Compute Numerical Gradient\n",
    "            numgrad[n] = (loss2 - loss1) / (2*e)\n",
    "\n",
    "            #Return the value we changed to zero:\n",
    "            perturb[n] = 0\n",
    "            \n",
    "        #Return Params to original value:\n",
    "        self.setParams(paramsInitial)\n",
    "\n",
    "        return numgrad \n",
    "    \n",
    "    def dataGeneration(self, x1=-5, x2=5, N=100):\n",
    "        c=Heavy_tail_regression3.c\n",
    "        d=Heavy_tail_regression3.d\n",
    "        e=Heavy_tail_regression3.e\n",
    "        f=Heavy_tail_regression3.f\n",
    "\n",
    "        np.random.seed()\n",
    "        x=np.random.uniform(x1,x2,N)\n",
    "        c_randn=np.random.normal(0,c,N)\n",
    "        d_randn=np.random.normal(0,d,N)\n",
    "        e_randn=np.random.normal(0,e,N)\n",
    "        f_randn=np.random.normal(0,f,N)       \n",
    "        y = self.a*x + self.b + c_randn*x**3 + d_randn*x**2 + e_randn*x + f_randn        \n",
    "        \n",
    "        return np.append(x, y).reshape(N,2)\n",
    "    "
   ]
  },
  {
   "cell_type": "code",
   "execution_count": 127,
   "metadata": {
    "collapsed": true
   },
   "outputs": [],
   "source": [
    "Reg31=Heavy_tail_regression3(lambd=0.0001)\n",
    "Reg32=Heavy_tail_regression3(lambd=0.0001)\n",
    "Reg33=Heavy_tail_regression3(lambd=0.0001)\n",
    "Reg34=Heavy_tail_regression3(lambd=0.0001)\n",
    "Reg35=Heavy_tail_regression3(lambd=0.0001)\n",
    "T31 = trainer(Reg31)\n",
    "T32 = trainer(Reg32)\n",
    "T33 = trainer(Reg33)\n",
    "T34 = trainer(Reg34)\n",
    "T35 = trainer(Reg35)"
   ]
  },
  {
   "cell_type": "code",
   "execution_count": 128,
   "metadata": {
    "collapsed": false
   },
   "outputs": [
    {
     "data": {
      "text/plain": [
       "array([ -1.15659787e-01,   5.61996920e-01,  -9.32440885e-03,\n",
       "        -1.08887545e+00,  -1.81740427e+00,  -1.17320100e+01])"
      ]
     },
     "execution_count": 128,
     "metadata": {},
     "output_type": "execute_result"
    }
   ],
   "source": [
    "numgrad = Reg31.computeNumericalGradients(data_1_1[:,0],data_1_1[:,1])\n",
    "numgrad"
   ]
  },
  {
   "cell_type": "code",
   "execution_count": 129,
   "metadata": {
    "collapsed": false
   },
   "outputs": [
    {
     "data": {
      "text/plain": [
       "array([ -1.15659787e-01,   5.61996920e-01,  -9.32440880e-03,\n",
       "        -1.08887545e+00,  -1.81740427e+00,  -1.17320100e+01])"
      ]
     },
     "execution_count": 129,
     "metadata": {},
     "output_type": "execute_result"
    }
   ],
   "source": [
    "grad = Reg31.computeGradients(data_1_1[:,0],data_1_1[:,1])\n",
    "grad"
   ]
  },
  {
   "cell_type": "code",
   "execution_count": 130,
   "metadata": {
    "collapsed": false
   },
   "outputs": [
    {
     "data": {
      "text/plain": [
       "1.5177290993456627e-09"
      ]
     },
     "execution_count": 130,
     "metadata": {},
     "output_type": "execute_result"
    }
   ],
   "source": [
    "np.linalg.norm(grad-numgrad)/np.linalg.norm(grad+numgrad)"
   ]
  },
  {
   "cell_type": "code",
   "execution_count": 141,
   "metadata": {
    "collapsed": false
   },
   "outputs": [
    {
     "name": "stdout",
     "output_type": "stream",
     "text": [
      "Optimization terminated successfully.\n",
      "         Current function value: 1.728338\n",
      "         Iterations: 31\n",
      "         Function evaluations: 40\n",
      "         Gradient evaluations: 40\n"
     ]
    },
    {
     "data": {
      "text/plain": [
       "1.7283380199833436"
      ]
     },
     "execution_count": 141,
     "metadata": {},
     "output_type": "execute_result"
    }
   ],
   "source": [
    "T31.train(train_data_1_1[:,0], train_data_1_1[:,1], test_data_1_1[:,0], test_data_1_1[:,1])\n",
    "T31.optimizationResults.fun"
   ]
  },
  {
   "cell_type": "code",
   "execution_count": 142,
   "metadata": {
    "collapsed": false
   },
   "outputs": [
    {
     "data": {
      "text/plain": [
       "<matplotlib.text.Text at 0x194a4a90>"
      ]
     },
     "execution_count": 142,
     "metadata": {},
     "output_type": "execute_result"
    },
    {
     "data": {
      "image/png": "[encoded data removed]",
      "text/plain": [
       "<matplotlib.figure.Figure at 0x192b2d68>"
      ]
     },
     "metadata": {},
     "output_type": "display_data"
    }
   ],
   "source": [
    "plot(T31.J)\n",
    "plot(T31.testJ)\n",
    "grid(1)\n",
    "xlabel('Iterations')\n",
    "ylabel('Cost')"
   ]
  },
  {
   "cell_type": "code",
   "execution_count": null,
   "metadata": {
    "collapsed": true
   },
   "outputs": [],
   "source": []
  },
  {
   "cell_type": "code",
   "execution_count": 100,
   "metadata": {
    "collapsed": true
   },
   "outputs": [],
   "source": [
    "# Regression Class 4:\n",
    "class Heavy_tail_regression4(object):\n",
    "    # model noise with c*x**4 + d*x**3 + e*x**2 + f*x + g\n",
    "    c = np.random.random()\n",
    "    d = np.random.random()\n",
    "    e = np.random.random()\n",
    "    f = np.random.random()\n",
    "    g = np.random.random()\n",
    "    \n",
    "    def __init__(self, lambd=0):        \n",
    "        \n",
    "        #Weights (parameters)\n",
    "        self.a = np.random.random()\n",
    "        self.b = np.random.random()\n",
    "            \n",
    "        #Regularization Parameter:\n",
    "        self.lambd = lambd\n",
    "                    \n",
    "            \n",
    "    def costFunction(self, x, y):\n",
    "        #Compute cost for given x,y, use weights already stored in class.\n",
    "        c=Heavy_tail_regression4.c\n",
    "        d=Heavy_tail_regression4.d\n",
    "        e=Heavy_tail_regression4.e\n",
    "        f=Heavy_tail_regression4.f\n",
    "        g=Heavy_tail_regression4.g\n",
    "        sigma_2 = (c*x**4)**2 +(d*x**3)**2 + (e*x**2)**2 + (f*x)**2 + g**2\n",
    "        yHat = self.a*x+self.b\n",
    "        J = 0.5*sum((y-yHat)**2/sigma_2)/x.shape[0] + 0.5*sum(np.log(sigma_2))/x.shape[0]+(self.lambd/2)*(sum(self.getParams()**2))\n",
    "        return J\n",
    "        \n",
    "    def costFunctionPrime(self, x, y):\n",
    "        #Compute derivative with respect to a, b, c, d, e, f, g for a given x and y:\n",
    "        c=Heavy_tail_regression4.c\n",
    "        d=Heavy_tail_regression4.d\n",
    "        e=Heavy_tail_regression4.e\n",
    "        f=Heavy_tail_regression4.f\n",
    "        g=Heavy_tail_regression4.g\n",
    "        sigma_2 = (c*x**4)**2 +(d*x**3)**2 + (e*x**2)**2 + (f*x)**2 + g**2\n",
    "        yHat = self.a*x+self.b\n",
    "        dJda = sum(-x*(y-yHat)/sigma_2)/x.shape[0] + self.lambd*self.a\n",
    "        dJdb = sum(-(y-yHat)/sigma_2)/x.shape[0] + self.lambd*self.b\n",
    "        dJdc = sum(c*x**8/sigma_2)/x.shape[0]-sum(c*x**8*(y-yHat)**2/sigma_2**2)/x.shape[0] + self.lambd*c        \n",
    "        dJdd = sum(d*x**6/sigma_2)/x.shape[0]-sum(d*x**6*(y-yHat)**2/sigma_2**2)/x.shape[0] + self.lambd*d        \n",
    "        dJde = sum(e*x**4/sigma_2)/x.shape[0]-sum(e*x**4*(y-yHat)**2/sigma_2**2)/x.shape[0] + self.lambd*e\n",
    "        dJdf = sum(f*x**2/sigma_2)/x.shape[0]-sum(f*x**2*(y-yHat)**2/sigma_2**2)/x.shape[0] + self.lambd*f\n",
    "        dJdg = sum(g/sigma_2)/x.shape[0]-sum(g*(y-yHat)**2/sigma_2**2)/x.shape[0] + self.lambd*g       \n",
    "        \n",
    "        return dJda, dJdb, dJdc, dJdd, dJde, dJdf, dJdg\n",
    "\n",
    "    def computeGradients(self, x, y, L=0):       \n",
    "        dJda, dJdb, dJdc, dJdd, dJde, dJdf, dJdg = self.costFunctionPrime(x, y)\n",
    "        if L==1:\n",
    "            return np.asarray((dJdc, dJdd, dJde, dJdf, dJdg))\n",
    "        elif L==2:\n",
    "            return np.asarray((dJda, dJdb))\n",
    "        else:\n",
    "            return np.asarray((dJda, dJdb, dJdc, dJdd, dJde, dJdf, dJdg))\n",
    "    \n",
    "    def getParams(self, L=0):\n",
    "        #Get a, b, c, d :\n",
    "        if L==1:\n",
    "            params = np.asarray((Heavy_tail_regression4.c, Heavy_tail_regression4.d, Heavy_tail_regression4.e, Heavy_tail_regression4.f, Heavy_tail_regression4.g))\n",
    "        elif L==2:\n",
    "            params = np.asarray((self.a, self.b))\n",
    "        else:\n",
    "            params = np.asarray((self.a, self.b, Heavy_tail_regression4.c, Heavy_tail_regression4.d, Heavy_tail_regression4.e, Heavy_tail_regression4.f, Heavy_tail_regression4.g))\n",
    "        return params\n",
    "    \n",
    "    def setParams(self, params, L=0):\n",
    "        #Set a, b, c, d :\n",
    "        if L==1:\n",
    "            Heavy_tail_regression4.c = params[0]\n",
    "            Heavy_tail_regression4.d = params[1]\n",
    "            Heavy_tail_regression4.e = params[2]\n",
    "            Heavy_tail_regression4.f = params[3]\n",
    "            Heavy_tail_regression4.g = params[4]\n",
    "        elif L==2:\n",
    "            self.a = params[0]\n",
    "            self.b = params[1]\n",
    "        else:\n",
    "            self.a = params[0]\n",
    "            self.b = params[1]\n",
    "            Heavy_tail_regression4.c = params[2]\n",
    "            Heavy_tail_regression4.d = params[3]\n",
    "            Heavy_tail_regression4.e = params[4]\n",
    "            Heavy_tail_regression4.f = params[5]\n",
    "            Heavy_tail_regression4.g = params[6]\n",
    "            \n",
    "    def computeNumericalGradients(self, x, y):\n",
    "        paramsInitial = self.getParams()\n",
    "        numgrad = np.zeros(len(paramsInitial))\n",
    "        perturb = np.zeros(len(paramsInitial))        \n",
    "        e = 1e-5\n",
    "        \n",
    "        for n in range(len(paramsInitial)):\n",
    "            #Set perturbation vector\n",
    "            perturb[n] = e\n",
    "            self.setParams(paramsInitial + perturb)\n",
    "            loss2 = self.costFunction(x, y)\n",
    "            \n",
    "            self.setParams(paramsInitial - perturb)\n",
    "            loss1 = self.costFunction(x, y)\n",
    "\n",
    "            #Compute Numerical Gradient\n",
    "            numgrad[n] = (loss2 - loss1) / (2*e)\n",
    "\n",
    "            #Return the value we changed to zero:\n",
    "            perturb[n] = 0\n",
    "            \n",
    "        #Return Params to original value:\n",
    "        self.setParams(paramsInitial)\n",
    "\n",
    "        return numgrad \n",
    "\n",
    "    def dataGeneration(self, x1=-5, x2=5, N=100):\n",
    "        c=Heavy_tail_regression4.c\n",
    "        d=Heavy_tail_regression4.d\n",
    "        e=Heavy_tail_regression4.e\n",
    "        f=Heavy_tail_regression4.f\n",
    "        g=Heavy_tail_regression4.g\n",
    "\n",
    "        np.random.seed()\n",
    "        x=np.random.uniform(x1,x2,N)\n",
    "        c_randn=np.random.normal(0,c,N)\n",
    "        d_randn=np.random.normal(0,d,N)\n",
    "        e_randn=np.random.normal(0,e,N)\n",
    "        f_randn=np.random.normal(0,f,N)\n",
    "        g_randn=np.random.normal(0,g,N)\n",
    "        y = self.a*x + self.b + c_randn*x**4 + d_randn*x**3 + e_randn*x**2 + f_randn*x + g_randn        \n",
    "        \n",
    "        return np.append(x, y).reshape(N,2)\n",
    "    "
   ]
  },
  {
   "cell_type": "code",
   "execution_count": 132,
   "metadata": {
    "collapsed": true
   },
   "outputs": [],
   "source": [
    "Reg41=Heavy_tail_regression4(lambd=0.0001)\n",
    "Reg42=Heavy_tail_regression4(lambd=0.0001)\n",
    "Reg43=Heavy_tail_regression4(lambd=0.0001)\n",
    "Reg44=Heavy_tail_regression4(lambd=0.0001)\n",
    "Reg45=Heavy_tail_regression4(lambd=0.0001)\n",
    "T41 = trainer(Reg41)\n",
    "T42 = trainer(Reg42)\n",
    "T43 = trainer(Reg43)\n",
    "T44 = trainer(Reg44)\n",
    "T45 = trainer(Reg45)"
   ]
  },
  {
   "cell_type": "code",
   "execution_count": 133,
   "metadata": {
    "collapsed": false
   },
   "outputs": [
    {
     "data": {
      "text/plain": [
       "array([-0.24116803,  0.37170048,  1.03529829, -0.14195089, -0.12981136,\n",
       "       -0.24292942, -1.52455142])"
      ]
     },
     "execution_count": 133,
     "metadata": {},
     "output_type": "execute_result"
    }
   ],
   "source": [
    "numgrad = Reg41.computeNumericalGradients(data_1_1[:,0],data_1_1[:,1])\n",
    "numgrad"
   ]
  },
  {
   "cell_type": "code",
   "execution_count": 134,
   "metadata": {
    "collapsed": false
   },
   "outputs": [
    {
     "data": {
      "text/plain": [
       "array([-0.24116803,  0.37170048,  1.03529829, -0.14195089, -0.12981136,\n",
       "       -0.24292942, -1.52455142])"
      ]
     },
     "execution_count": 134,
     "metadata": {},
     "output_type": "execute_result"
    }
   ],
   "source": [
    "grad = Reg41.computeGradients(data_1_1[:,0],data_1_1[:,1])\n",
    "grad"
   ]
  },
  {
   "cell_type": "code",
   "execution_count": 135,
   "metadata": {
    "collapsed": false
   },
   "outputs": [
    {
     "data": {
      "text/plain": [
       "1.1402156498162651e-10"
      ]
     },
     "execution_count": 135,
     "metadata": {},
     "output_type": "execute_result"
    }
   ],
   "source": [
    "np.linalg.norm(grad-numgrad)/np.linalg.norm(grad+numgrad)"
   ]
  },
  {
   "cell_type": "code",
   "execution_count": 143,
   "metadata": {
    "collapsed": false
   },
   "outputs": [
    {
     "name": "stdout",
     "output_type": "stream",
     "text": [
      "Optimization terminated successfully.\n",
      "         Current function value: 1.728338\n",
      "         Iterations: 51\n",
      "         Function evaluations: 55\n",
      "         Gradient evaluations: 55\n"
     ]
    },
    {
     "data": {
      "text/plain": [
       "1.728338019973068"
      ]
     },
     "execution_count": 143,
     "metadata": {},
     "output_type": "execute_result"
    }
   ],
   "source": [
    "T41.train(train_data_1_1[:,0], train_data_1_1[:,1], test_data_1_1[:,0], test_data_1_1[:,1])\n",
    "T41.optimizationResults.fun"
   ]
  },
  {
   "cell_type": "code",
   "execution_count": 144,
   "metadata": {
    "collapsed": false
   },
   "outputs": [
    {
     "data": {
      "text/plain": [
       "<matplotlib.text.Text at 0x196ec8d0>"
      ]
     },
     "execution_count": 144,
     "metadata": {},
     "output_type": "execute_result"
    },
    {
     "data": {
      "image/png": "[encoded data removed]",
      "text/plain": [
       "<matplotlib.figure.Figure at 0x19056b38>"
      ]
     },
     "metadata": {},
     "output_type": "display_data"
    }
   ],
   "source": [
    "plot(T41.J)\n",
    "plot(T41.testJ)\n",
    "grid(1)\n",
    "xlabel('Iterations')\n",
    "ylabel('Cost')"
   ]
  },
  {
   "cell_type": "code",
   "execution_count": null,
   "metadata": {
    "collapsed": false
   },
   "outputs": [],
   "source": []
  },
  {
   "cell_type": "code",
   "execution_count": null,
   "metadata": {
    "collapsed": true
   },
   "outputs": [],
   "source": []
  },
  {
   "cell_type": "code",
   "execution_count": 94,
   "metadata": {
    "collapsed": true
   },
   "outputs": [],
   "source": [
    "# Regression Class 5:\n",
    "class Heavy_tail_regression5(object):\n",
    "    # model noise with c*x**5 + d*x**4 + e*x**3 + f*x**2 + g*x + h\n",
    "    c = np.random.random()\n",
    "    d = np.random.random()\n",
    "    e = np.random.random()\n",
    "    f = np.random.random()\n",
    "    g = np.random.random()\n",
    "    h = np.random.random()\n",
    "    \n",
    "    def __init__(self, lambd=0):        \n",
    "        \n",
    "        #Weights (parameters)\n",
    "        self.a = np.random.random()\n",
    "        self.b = np.random.random()\n",
    "            \n",
    "        #Regularization Parameter:\n",
    "        self.lambd = lambd\n",
    "                    \n",
    "            \n",
    "    def costFunction(self, x, y):\n",
    "        #Compute cost for given x,y, use weights already stored in class.\n",
    "        #sigma_2 = (self.c*x)**2 + self.d**2\n",
    "        c=Heavy_tail_regression5.c\n",
    "        d=Heavy_tail_regression5.d\n",
    "        e=Heavy_tail_regression5.e\n",
    "        f=Heavy_tail_regression5.f\n",
    "        g=Heavy_tail_regression5.g\n",
    "        h=Heavy_tail_regression5.h\n",
    "        sigma_2 = (c*x**5)**2 + (d*x**4)**2 +(e*x**3)**2 + (f*x**2)**2 + (g*x)**2 + h**2\n",
    "        yHat = self.a*x+self.b\n",
    "        J = 0.5*sum((y-yHat)**2/sigma_2)/x.shape[0] + 0.5*sum(np.log(sigma_2))/x.shape[0]+(self.lambd/2)*(sum(self.getParams()**2))\n",
    "        return J\n",
    "        \n",
    "    def costFunctionPrime(self, x, y):\n",
    "        #Compute derivative with respect to a, b, c, d, e, f, g, h for a given x and y:\n",
    "        c=Heavy_tail_regression5.c\n",
    "        d=Heavy_tail_regression5.d\n",
    "        e=Heavy_tail_regression5.e\n",
    "        f=Heavy_tail_regression5.f\n",
    "        g=Heavy_tail_regression5.g\n",
    "        h=Heavy_tail_regression5.h\n",
    "        sigma_2 = (c*x**5)**2 + (d*x**4)**2 +(e*x**3)**2 + (f*x**2)**2 + (g*x)**2 + h**2\n",
    "        yHat = self.a*x+self.b\n",
    "        dJda = sum(-x*(y-yHat)/sigma_2)/x.shape[0] + self.lambd*self.a\n",
    "        dJdb = sum(-(y-yHat)/sigma_2)/x.shape[0] + self.lambd*self.b\n",
    "        dJdc = sum(c*x**10/sigma_2)/x.shape[0]-sum(c*x**10*(y-yHat)**2/sigma_2**2)/x.shape[0] + self.lambd*c        \n",
    "        dJdd = sum(d*x**8/sigma_2)/x.shape[0]-sum(d*x**8*(y-yHat)**2/sigma_2**2)/x.shape[0] + self.lambd*d        \n",
    "        dJde = sum(e*x**6/sigma_2)/x.shape[0]-sum(e*x**6*(y-yHat)**2/sigma_2**2)/x.shape[0] + self.lambd*e        \n",
    "        dJdf = sum(f*x**4/sigma_2)/x.shape[0]-sum(f*x**4*(y-yHat)**2/sigma_2**2)/x.shape[0] + self.lambd*f\n",
    "        dJdg = sum(g*x**2/sigma_2)/x.shape[0]-sum(g*x**2*(y-yHat)**2/sigma_2**2)/x.shape[0] + self.lambd*g\n",
    "        dJdh = sum(h/sigma_2)/x.shape[0]-sum(h*(y-yHat)**2/sigma_2**2)/x.shape[0] + self.lambd*h       \n",
    "        \n",
    "        return dJda, dJdb, dJdc, dJdd, dJde, dJdf, dJdg, dJdh\n",
    "\n",
    "    def computeGradients(self, x, y, L=0):       \n",
    "        dJda, dJdb, dJdc, dJdd, dJde, dJdf, dJdg, dJdh = self.costFunctionPrime(x, y)\n",
    "        if L==1:\n",
    "            return np.asarray((dJdc, dJdd, dJde, dJdf, dJdg, dJdh))\n",
    "        elif L==2:\n",
    "            return np.asarray((dJda, dJdb))\n",
    "        else:\n",
    "            return np.asarray((dJda, dJdb, dJdc, dJdd, dJde, dJdf, dJdg, dJdh))\n",
    "    \n",
    "    def getParams(self, L=0):\n",
    "        #Get a, b, c, d :\n",
    "        if L==1:\n",
    "            params = np.asarray((Heavy_tail_regression5.c, Heavy_tail_regression5.d, Heavy_tail_regression5.e, \\\n",
    "                                 Heavy_tail_regression5.f, Heavy_tail_regression5.g, Heavy_tail_regression5.h))\n",
    "        elif L==2:\n",
    "            params = np.asarray((self.a, self.b))\n",
    "        else:\n",
    "            params = np.asarray((self.a, self.b, Heavy_tail_regression5.c, Heavy_tail_regression5.d, Heavy_tail_regression5.e, \\\n",
    "                                 Heavy_tail_regression5.f, Heavy_tail_regression5.g, Heavy_tail_regression5.h))\n",
    "        return params\n",
    "    \n",
    "    def setParams(self, params, L=0):\n",
    "        #Set a, b, c, d, e, f, g, h :\n",
    "        if L==1:\n",
    "            Heavy_tail_regression5.c = params[0]\n",
    "            Heavy_tail_regression5.d = params[1]\n",
    "            Heavy_tail_regression5.e = params[2]\n",
    "            Heavy_tail_regression5.f = params[3]\n",
    "            Heavy_tail_regression5.g = params[4]\n",
    "            Heavy_tail_regression5.h = params[5]\n",
    "        elif L==2:\n",
    "            self.a = params[0]\n",
    "            self.b = params[1]\n",
    "        else:\n",
    "            self.a = params[0]\n",
    "            self.b = params[1]\n",
    "            Heavy_tail_regression5.c = params[2]\n",
    "            Heavy_tail_regression5.d = params[3]\n",
    "            Heavy_tail_regression5.e = params[4]\n",
    "            Heavy_tail_regression5.f = params[5]\n",
    "            Heavy_tail_regression5.g = params[6]\n",
    "            Heavy_tail_regression5.h = params[7]\n",
    "            \n",
    "    def computeNumericalGradients(self, x, y):\n",
    "        paramsInitial = self.getParams()\n",
    "        numgrad = np.zeros(len(paramsInitial))\n",
    "        perturb = np.zeros(len(paramsInitial))        \n",
    "        e = 1e-5\n",
    "        \n",
    "        for n in range(len(paramsInitial)):\n",
    "            #Set perturbation vector\n",
    "            perturb[n] = e\n",
    "            self.setParams(paramsInitial + perturb)\n",
    "            loss2 = self.costFunction(x, y)\n",
    "            \n",
    "            self.setParams(paramsInitial - perturb)\n",
    "            loss1 = self.costFunction(x, y)\n",
    "\n",
    "            #Compute Numerical Gradient\n",
    "            numgrad[n] = (loss2 - loss1) / (2*e)\n",
    "\n",
    "            #Return the value we changed to zero:\n",
    "            perturb[n] = 0\n",
    "            \n",
    "        #Return Params to original value:\n",
    "        self.setParams(paramsInitial)\n",
    "\n",
    "        return numgrad \n",
    "    \n",
    "    def dataGeneration(self, x1=-5, x2=5, N=100):\n",
    "        c=Heavy_tail_regression5.c\n",
    "        d=Heavy_tail_regression5.d\n",
    "        e=Heavy_tail_regression5.e\n",
    "        f=Heavy_tail_regression5.f\n",
    "        g=Heavy_tail_regression5.g\n",
    "        h=Heavy_tail_regression5.h\n",
    "        sigma_2 = (c*x**5)**2 + (d*x**4)**2 +(e*x**3)**2 + (f*x**2)**2 + (g*x)**2 + h**2\n",
    "\n",
    "        np.random.seed()\n",
    "        x=np.random.uniform(x1,x2,N)\n",
    "        c_randn=np.random.normal(0,c,N)\n",
    "        d_randn=np.random.normal(0,d,N)\n",
    "        e_randn=np.random.normal(0,e,N)\n",
    "        f_randn=np.random.normal(0,f,N)\n",
    "        g_randn=np.random.normal(0,g,N)\n",
    "        h_randn=np.random.normal(0,h,N)\n",
    "        y = self.a*x + self.b + c_randn*x**5 + d_randn*x**4 + e_randn*x**3 + f_randn*x**2 + g_randn*x +h_randn        \n",
    "        \n",
    "        return np.append(x, y).reshape(N,2)\n",
    "    "
   ]
  },
  {
   "cell_type": "code",
   "execution_count": 137,
   "metadata": {
    "collapsed": true
   },
   "outputs": [],
   "source": [
    "Reg51=Heavy_tail_regression5(lambd=0.0001)\n",
    "Reg52=Heavy_tail_regression5(lambd=0.0001)\n",
    "Reg53=Heavy_tail_regression5(lambd=0.0001)\n",
    "Reg54=Heavy_tail_regression5(lambd=0.0001)\n",
    "Reg55=Heavy_tail_regression5(lambd=0.0001)\n",
    "T51 = trainer(Reg51)\n",
    "T52 = trainer(Reg52)\n",
    "T53 = trainer(Reg53)\n",
    "T54 = trainer(Reg54)\n",
    "T55 = trainer(Reg55)"
   ]
  },
  {
   "cell_type": "code",
   "execution_count": 138,
   "metadata": {
    "collapsed": false
   },
   "outputs": [
    {
     "data": {
      "text/plain": [
       "array([-0.26387502,  0.86884799,  1.37372671, -0.01350279, -0.03507919,\n",
       "       -0.66058732, -1.06448142, -3.96062826])"
      ]
     },
     "execution_count": 138,
     "metadata": {},
     "output_type": "execute_result"
    }
   ],
   "source": [
    "numgrad = Reg51.computeNumericalGradients(data_1_1[:,0],data_1_1[:,1])\n",
    "numgrad"
   ]
  },
  {
   "cell_type": "code",
   "execution_count": 139,
   "metadata": {
    "collapsed": false
   },
   "outputs": [
    {
     "data": {
      "text/plain": [
       "array([-0.26387502,  0.86884799,  1.37372671, -0.01350279, -0.03507919,\n",
       "       -0.66058732, -1.06448142, -3.96062826])"
      ]
     },
     "execution_count": 139,
     "metadata": {},
     "output_type": "execute_result"
    }
   ],
   "source": [
    "grad = Reg51.computeGradients(data_1_1[:,0],data_1_1[:,1])\n",
    "grad"
   ]
  },
  {
   "cell_type": "code",
   "execution_count": 140,
   "metadata": {
    "collapsed": false
   },
   "outputs": [
    {
     "data": {
      "text/plain": [
       "3.1469697534266533e-10"
      ]
     },
     "execution_count": 140,
     "metadata": {},
     "output_type": "execute_result"
    }
   ],
   "source": [
    "np.linalg.norm(grad-numgrad)/np.linalg.norm(grad+numgrad)"
   ]
  },
  {
   "cell_type": "code",
   "execution_count": 146,
   "metadata": {
    "collapsed": false
   },
   "outputs": [
    {
     "name": "stdout",
     "output_type": "stream",
     "text": [
      "Optimization terminated successfully.\n",
      "         Current function value: 1.728338\n",
      "         Iterations: 127\n",
      "         Function evaluations: 165\n",
      "         Gradient evaluations: 165\n"
     ]
    },
    {
     "data": {
      "text/plain": [
       "1.7283380199646576"
      ]
     },
     "execution_count": 146,
     "metadata": {},
     "output_type": "execute_result"
    }
   ],
   "source": [
    "T51.train(train_data_1_1[:,0], train_data_1_1[:,1], test_data_1_1[:,0], test_data_1_1[:,1])\n",
    "T51.optimizationResults.fun"
   ]
  },
  {
   "cell_type": "code",
   "execution_count": 147,
   "metadata": {
    "collapsed": false,
    "scrolled": true
   },
   "outputs": [
    {
     "data": {
      "text/plain": [
       "<matplotlib.text.Text at 0x19988c18>"
      ]
     },
     "execution_count": 147,
     "metadata": {},
     "output_type": "execute_result"
    },
    {
     "data": {
      "image/png": "[encoded data removed]",
      "text/plain": [
       "<matplotlib.figure.Figure at 0x1984bcc0>"
      ]
     },
     "metadata": {},
     "output_type": "display_data"
    }
   ],
   "source": [
    "plot(T51.J)\n",
    "plot(T51.testJ)\n",
    "grid(1)\n",
    "xlabel('Iterations')\n",
    "ylabel('Cost')"
   ]
  },
  {
   "cell_type": "code",
   "execution_count": 204,
   "metadata": {
    "collapsed": true
   },
   "outputs": [],
   "source": [
    "np.random.shuffle(data_1_1)\n",
    "np.random.shuffle(data_1_2)\n",
    "np.random.shuffle(data_1_3)\n",
    "np.random.shuffle(data_1_4)\n",
    "np.random.shuffle(data_1_5)\n",
    "train1 = data_1_1[:int(len(data_1_1)*.6)];cv1 = data_1_1[int(len(data_1_1)*.6):int(len(data_1_1)*.8)];test1 = data_1_1[int(len(data_1_1)*.8):]\n",
    "train2 = data_1_2[:int(len(data_1_2)*.6)];cv2 = data_1_2[int(len(data_1_2)*.6):int(len(data_1_2)*.8)];test2 = data_1_2[int(len(data_1_2)*.8):]\n",
    "train3 = data_1_3[:int(len(data_1_3)*.6)];cv3 = data_1_3[int(len(data_1_3)*.6):int(len(data_1_3)*.8)];test3 = data_1_3[int(len(data_1_3)*.8):]\n",
    "train4 = data_1_4[:int(len(data_1_4)*.6)];cv4 = data_1_4[int(len(data_1_4)*.6):int(len(data_1_4)*.8)];test4 = data_1_4[int(len(data_1_4)*.8):]\n",
    "train5 = data_1_5[:int(len(data_1_5)*.6)];cv5 = data_1_5[int(len(data_1_5)*.6):int(len(data_1_5)*.8)];test5 = data_1_5[int(len(data_1_5)*.8):]"
   ]
  },
  {
   "cell_type": "code",
   "execution_count": 207,
   "metadata": {
    "collapsed": false,
    "scrolled": true
   },
   "outputs": [
    {
     "name": "stdout",
     "output_type": "stream",
     "text": [
      "Optimization terminated successfully.\n",
      "         Current function value: 1.855935\n",
      "         Iterations: 15\n",
      "         Function evaluations: 16\n",
      "         Gradient evaluations: 16\n",
      "Optimization terminated successfully.\n",
      "         Current function value: 1.859239\n",
      "         Iterations: 14\n",
      "         Function evaluations: 15\n",
      "         Gradient evaluations: 15\n",
      "Optimization terminated successfully.\n",
      "         Current function value: 1.854696\n",
      "         Iterations: 21\n",
      "         Function evaluations: 22\n",
      "         Gradient evaluations: 22\n",
      "Optimization terminated successfully.\n",
      "         Current function value: 1.854696\n",
      "         Iterations: 21\n",
      "         Function evaluations: 23\n",
      "         Gradient evaluations: 23\n",
      "Optimization terminated successfully.\n",
      "         Current function value: 1.854696\n",
      "         Iterations: 26\n",
      "         Function evaluations: 34\n",
      "         Gradient evaluations: 34\n"
     ]
    }
   ],
   "source": [
    "trainJ=[]; testJ=[]\n",
    "\n",
    "Reg1=Heavy_tail_regression1(lambd=0.0001)\n",
    "Reg2=Heavy_tail_regression2(lambd=0.0001)\n",
    "Reg3=Heavy_tail_regression3(lambd=0.0001)\n",
    "Reg4=Heavy_tail_regression4(lambd=0.0001)\n",
    "Reg5=Heavy_tail_regression5(lambd=0.0001)\n",
    "\n",
    "T1 = trainer(Reg1)\n",
    "T2 = trainer(Reg2)\n",
    "T3 = trainer(Reg3)\n",
    "T4 = trainer(Reg4)\n",
    "T5 = trainer(Reg5)\n",
    "\n",
    "T1.train(train1[:,0], train1[:,1], cv1[:,0], cv1[:,1])\n",
    "trainJ.append(T1.optimizationResults.fun)\n",
    "testJ.append(T1.Reg.costFunction(test1[:,0], test1[:,1]))\n",
    "\n",
    "T2.train(train1[:,0], train1[:,1], cv1[:,0], cv1[:,1])\n",
    "trainJ.append(T2.optimizationResults.fun)\n",
    "testJ.append(T2.Reg.costFunction(test1[:,0], test1[:,1]))\n",
    "\n",
    "T3.train(train1[:,0], train1[:,1], cv1[:,0], cv1[:,1])\n",
    "trainJ.append(T3.optimizationResults.fun)\n",
    "testJ.append(T3.Reg.costFunction(test1[:,0], test1[:,1]))\n",
    "\n",
    "T4.train(train1[:,0], train1[:,1], cv1[:,0], cv1[:,1])\n",
    "trainJ.append(T4.optimizationResults.fun)\n",
    "testJ.append(T4.Reg.costFunction(test1[:,0], test1[:,1]))\n",
    "\n",
    "T5.train(train1[:,0], train1[:,1], cv1[:,0], cv1[:,1])\n",
    "trainJ.append(T5.optimizationResults.fun)\n",
    "testJ.append(T5.Reg.costFunction(test1[:,0], test1[:,1]))\n"
   ]
  },
  {
   "cell_type": "code",
   "execution_count": 208,
   "metadata": {
    "collapsed": false,
    "scrolled": true
   },
   "outputs": [
    {
     "data": {
      "text/plain": [
       "<matplotlib.text.Text at 0x1aa659e8>"
      ]
     },
     "execution_count": 208,
     "metadata": {},
     "output_type": "execute_result"
    },
    {
     "data": {
      "image/png": "[encoded data removed]",
      "text/plain": [
       "<matplotlib.figure.Figure at 0x1ad122e8>"
      ]
     },
     "metadata": {},
     "output_type": "display_data"
    }
   ],
   "source": [
    "plot(trainJ)\n",
    "plot(testJ)\n",
    "grid(1)\n",
    "xlabel('Iterations')\n",
    "ylabel('Cost')"
   ]
  },
  {
   "cell_type": "code",
   "execution_count": null,
   "metadata": {
    "collapsed": true
   },
   "outputs": [],
   "source": []
  },
  {
   "cell_type": "code",
   "execution_count": 213,
   "metadata": {
    "collapsed": false
   },
   "outputs": [
    {
     "name": "stdout",
     "output_type": "stream",
     "text": [
      "Optimization terminated successfully.\n",
      "         Current function value: 2.680916\n",
      "         Iterations: 19\n",
      "         Function evaluations: 20\n",
      "         Gradient evaluations: 20\n",
      "Optimization terminated successfully.\n",
      "         Current function value: 2.680916\n",
      "         Iterations: 20\n",
      "         Function evaluations: 21\n",
      "         Gradient evaluations: 21\n",
      "Optimization terminated successfully.\n",
      "         Current function value: 2.680916\n",
      "         Iterations: 22\n",
      "         Function evaluations: 28\n",
      "         Gradient evaluations: 28\n",
      "Optimization terminated successfully.\n",
      "         Current function value: 2.680916\n",
      "         Iterations: 26\n",
      "         Function evaluations: 37\n",
      "         Gradient evaluations: 37\n",
      "Optimization terminated successfully.\n",
      "         Current function value: 2.680916\n",
      "         Iterations: 27\n",
      "         Function evaluations: 47\n",
      "         Gradient evaluations: 45\n"
     ]
    }
   ],
   "source": [
    "trainJ=[]; testJ=[]\n",
    "\n",
    "Reg1=Heavy_tail_regression1(lambd=0.0001)\n",
    "Reg2=Heavy_tail_regression2(lambd=0.0001)\n",
    "Reg3=Heavy_tail_regression3(lambd=0.0001)\n",
    "Reg4=Heavy_tail_regression4(lambd=0.0001)\n",
    "Reg5=Heavy_tail_regression5(lambd=0.0001)\n",
    "\n",
    "T1 = trainer(Reg1)\n",
    "T2 = trainer(Reg2)\n",
    "T3 = trainer(Reg3)\n",
    "T4 = trainer(Reg4)\n",
    "T5 = trainer(Reg5)\n",
    "\n",
    "T1.train(train2[:,0], train2[:,1], cv2[:,0], cv2[:,1])\n",
    "trainJ.append(T1.optimizationResults.fun)\n",
    "testJ.append(T1.Reg.costFunction(test2[:,0], test2[:,1]))\n",
    "\n",
    "T2.train(train2[:,0], train2[:,1], cv2[:,0], cv2[:,1])\n",
    "trainJ.append(T2.optimizationResults.fun)\n",
    "testJ.append(T2.Reg.costFunction(test2[:,0], test2[:,1]))\n",
    "\n",
    "T3.train(train2[:,0], train2[:,1], cv2[:,0], cv2[:,1])\n",
    "trainJ.append(T3.optimizationResults.fun)\n",
    "testJ.append(T3.Reg.costFunction(test2[:,0], test2[:,1]))\n",
    "\n",
    "T4.train(train2[:,0], train2[:,1], cv2[:,0], cv2[:,1])\n",
    "trainJ.append(T4.optimizationResults.fun)\n",
    "testJ.append(T4.Reg.costFunction(test2[:,0], test2[:,1]))\n",
    "\n",
    "T5.train(train2[:,0], train2[:,1], cv2[:,0], cv2[:,1])\n",
    "trainJ.append(T5.optimizationResults.fun)\n",
    "testJ.append(T5.Reg.costFunction(test2[:,0], test2[:,1]))"
   ]
  },
  {
   "cell_type": "code",
   "execution_count": 214,
   "metadata": {
    "collapsed": false
   },
   "outputs": [
    {
     "data": {
      "text/plain": [
       "<matplotlib.text.Text at 0x1b0da710>"
      ]
     },
     "execution_count": 214,
     "metadata": {},
     "output_type": "execute_result"
    },
    {
     "data": {
      "image/png": "[encoded data removed]",
      "text/plain": [
       "<matplotlib.figure.Figure at 0x1addf198>"
      ]
     },
     "metadata": {},
     "output_type": "display_data"
    }
   ],
   "source": [
    "plot(trainJ)\n",
    "plot(testJ)\n",
    "grid(1)\n",
    "xlabel('Iterations')\n",
    "ylabel('Cost')"
   ]
  },
  {
   "cell_type": "code",
   "execution_count": null,
   "metadata": {
    "collapsed": true
   },
   "outputs": [],
   "source": []
  },
  {
   "cell_type": "code",
   "execution_count": 215,
   "metadata": {
    "collapsed": false
   },
   "outputs": [
    {
     "name": "stdout",
     "output_type": "stream",
     "text": [
      "Optimization terminated successfully.\n",
      "         Current function value: 2.465355\n",
      "         Iterations: 21\n",
      "         Function evaluations: 23\n",
      "         Gradient evaluations: 23\n",
      "Optimization terminated successfully.\n",
      "         Current function value: 2.465355\n",
      "         Iterations: 28\n",
      "         Function evaluations: 30\n",
      "         Gradient evaluations: 30\n",
      "Optimization terminated successfully.\n",
      "         Current function value: 2.465355\n",
      "         Iterations: 33\n",
      "         Function evaluations: 41\n",
      "         Gradient evaluations: 41\n",
      "Optimization terminated successfully.\n",
      "         Current function value: 2.465355\n",
      "         Iterations: 30\n",
      "         Function evaluations: 38\n",
      "         Gradient evaluations: 38\n",
      "Optimization terminated successfully.\n",
      "         Current function value: 2.465355\n",
      "         Iterations: 27\n",
      "         Function evaluations: 38\n",
      "         Gradient evaluations: 38\n"
     ]
    }
   ],
   "source": [
    "trainJ=[]; testJ=[]\n",
    "\n",
    "Reg1=Heavy_tail_regression1(lambd=0.0001)\n",
    "Reg2=Heavy_tail_regression2(lambd=0.0001)\n",
    "Reg3=Heavy_tail_regression3(lambd=0.0001)\n",
    "Reg4=Heavy_tail_regression4(lambd=0.0001)\n",
    "Reg5=Heavy_tail_regression5(lambd=0.0001)\n",
    "\n",
    "T1 = trainer(Reg1)\n",
    "T2 = trainer(Reg2)\n",
    "T3 = trainer(Reg3)\n",
    "T4 = trainer(Reg4)\n",
    "T5 = trainer(Reg5)\n",
    "\n",
    "T1.train(train3[:,0], train3[:,1], cv3[:,0], cv3[:,1])\n",
    "trainJ.append(T1.optimizationResults.fun)\n",
    "testJ.append(T1.Reg.costFunction(test3[:,0], test3[:,1]))\n",
    "\n",
    "T2.train(train3[:,0], train3[:,1], cv3[:,0], cv3[:,1])\n",
    "trainJ.append(T2.optimizationResults.fun)\n",
    "testJ.append(T2.Reg.costFunction(test3[:,0], test3[:,1]))\n",
    "\n",
    "T3.train(train3[:,0], train3[:,1], cv3[:,0], cv3[:,1])\n",
    "trainJ.append(T3.optimizationResults.fun)\n",
    "testJ.append(T3.Reg.costFunction(test3[:,0], test3[:,1]))\n",
    "\n",
    "T4.train(train3[:,0], train3[:,1], cv3[:,0], cv3[:,1])\n",
    "trainJ.append(T4.optimizationResults.fun)\n",
    "testJ.append(T4.Reg.costFunction(test3[:,0], test3[:,1]))\n",
    "\n",
    "T5.train(train3[:,0], train3[:,1], cv3[:,0], cv3[:,1])\n",
    "trainJ.append(T5.optimizationResults.fun)\n",
    "testJ.append(T5.Reg.costFunction(test3[:,0], test3[:,1]))"
   ]
  },
  {
   "cell_type": "code",
   "execution_count": 216,
   "metadata": {
    "collapsed": false
   },
   "outputs": [
    {
     "data": {
      "text/plain": [
       "<matplotlib.text.Text at 0x1b589390>"
      ]
     },
     "execution_count": 216,
     "metadata": {},
     "output_type": "execute_result"
    },
    {
     "data": {
      "image/png": "[encoded data removed]",
      "text/plain": [
       "<matplotlib.figure.Figure at 0x1aee1828>"
      ]
     },
     "metadata": {},
     "output_type": "display_data"
    }
   ],
   "source": [
    "plot(trainJ)\n",
    "plot(testJ)\n",
    "grid(1)\n",
    "xlabel('Iterations')\n",
    "ylabel('Cost')"
   ]
  },
  {
   "cell_type": "code",
   "execution_count": null,
   "metadata": {
    "collapsed": true
   },
   "outputs": [],
   "source": []
  },
  {
   "cell_type": "code",
   "execution_count": 217,
   "metadata": {
    "collapsed": false
   },
   "outputs": [
    {
     "name": "stdout",
     "output_type": "stream",
     "text": [
      "Optimization terminated successfully.\n",
      "         Current function value: 1.852958\n",
      "         Iterations: 17\n",
      "         Function evaluations: 25\n",
      "         Gradient evaluations: 25\n",
      "Optimization terminated successfully.\n",
      "         Current function value: 1.833352\n",
      "         Iterations: 24\n",
      "         Function evaluations: 29\n",
      "         Gradient evaluations: 29\n",
      "Optimization terminated successfully.\n",
      "         Current function value: 1.823753\n",
      "         Iterations: 19\n",
      "         Function evaluations: 26\n",
      "         Gradient evaluations: 26\n",
      "Optimization terminated successfully.\n",
      "         Current function value: 1.823039\n",
      "         Iterations: 26\n",
      "         Function evaluations: 33\n",
      "         Gradient evaluations: 33\n",
      "Optimization terminated successfully.\n",
      "         Current function value: 1.811785\n",
      "         Iterations: 51\n",
      "         Function evaluations: 64\n",
      "         Gradient evaluations: 64\n"
     ]
    }
   ],
   "source": [
    "trainJ=[]; testJ=[]\n",
    "\n",
    "Reg1=Heavy_tail_regression1(lambd=0.0001)\n",
    "Reg2=Heavy_tail_regression2(lambd=0.0001)\n",
    "Reg3=Heavy_tail_regression3(lambd=0.0001)\n",
    "Reg4=Heavy_tail_regression4(lambd=0.0001)\n",
    "Reg5=Heavy_tail_regression5(lambd=0.0001)\n",
    "\n",
    "T1 = trainer(Reg1)\n",
    "T2 = trainer(Reg2)\n",
    "T3 = trainer(Reg3)\n",
    "T4 = trainer(Reg4)\n",
    "T5 = trainer(Reg5)\n",
    "\n",
    "T1.train(train4[:,0], train4[:,1], cv4[:,0], cv4[:,1])\n",
    "trainJ.append(T1.optimizationResults.fun)\n",
    "testJ.append(T1.Reg.costFunction(test4[:,0], test4[:,1]))\n",
    "\n",
    "T2.train(train4[:,0], train4[:,1], cv4[:,0], cv4[:,1])\n",
    "trainJ.append(T2.optimizationResults.fun)\n",
    "testJ.append(T2.Reg.costFunction(test4[:,0], test4[:,1]))\n",
    "\n",
    "T3.train(train4[:,0], train4[:,1], cv4[:,0], cv4[:,1])\n",
    "trainJ.append(T3.optimizationResults.fun)\n",
    "testJ.append(T3.Reg.costFunction(test4[:,0], test4[:,1]))\n",
    "\n",
    "T4.train(train4[:,0], train4[:,1], cv4[:,0], cv4[:,1])\n",
    "trainJ.append(T4.optimizationResults.fun)\n",
    "testJ.append(T4.Reg.costFunction(test4[:,0], test4[:,1]))\n",
    "\n",
    "T5.train(train4[:,0], train4[:,1], cv4[:,0], cv4[:,1])\n",
    "trainJ.append(T5.optimizationResults.fun)\n",
    "testJ.append(T5.Reg.costFunction(test4[:,0], test4[:,1]))"
   ]
  },
  {
   "cell_type": "code",
   "execution_count": 218,
   "metadata": {
    "collapsed": false
   },
   "outputs": [
    {
     "data": {
      "text/plain": [
       "<matplotlib.text.Text at 0x1b589c88>"
      ]
     },
     "execution_count": 218,
     "metadata": {},
     "output_type": "execute_result"
    },
    {
     "data": {
      "image/png": "[encoded data removed]",
      "text/plain": [
       "<matplotlib.figure.Figure at 0x1b5a8cf8>"
      ]
     },
     "metadata": {},
     "output_type": "display_data"
    }
   ],
   "source": [
    "plot(trainJ)\n",
    "plot(testJ)\n",
    "grid(1)\n",
    "xlabel('Iterations')\n",
    "ylabel('Cost')"
   ]
  },
  {
   "cell_type": "code",
   "execution_count": null,
   "metadata": {
    "collapsed": true
   },
   "outputs": [],
   "source": []
  },
  {
   "cell_type": "code",
   "execution_count": 221,
   "metadata": {
    "collapsed": false
   },
   "outputs": [
    {
     "name": "stdout",
     "output_type": "stream",
     "text": [
      "Optimization terminated successfully.\n",
      "         Current function value: 2.260346\n",
      "         Iterations: 13\n",
      "         Function evaluations: 17\n",
      "         Gradient evaluations: 17\n",
      "Optimization terminated successfully.\n",
      "         Current function value: 2.240432\n",
      "         Iterations: 21\n",
      "         Function evaluations: 26\n",
      "         Gradient evaluations: 26\n",
      "Optimization terminated successfully.\n",
      "         Current function value: 2.232876\n",
      "         Iterations: 19\n",
      "         Function evaluations: 26\n",
      "         Gradient evaluations: 26\n",
      "Optimization terminated successfully.\n",
      "         Current function value: 2.232876\n",
      "         Iterations: 42\n",
      "         Function evaluations: 59\n",
      "         Gradient evaluations: 59\n",
      "Optimization terminated successfully.\n",
      "         Current function value: 2.232876\n",
      "         Iterations: 23\n",
      "         Function evaluations: 44\n",
      "         Gradient evaluations: 44\n"
     ]
    }
   ],
   "source": [
    "trainJ=[]; testJ=[]\n",
    "\n",
    "Reg1=Heavy_tail_regression1(lambd=0.0001)\n",
    "Reg2=Heavy_tail_regression2(lambd=0.0001)\n",
    "Reg3=Heavy_tail_regression3(lambd=0.0001)\n",
    "Reg4=Heavy_tail_regression4(lambd=0.0001)\n",
    "Reg5=Heavy_tail_regression5(lambd=0.0001)\n",
    "\n",
    "T1 = trainer(Reg1)\n",
    "T2 = trainer(Reg2)\n",
    "T3 = trainer(Reg3)\n",
    "T4 = trainer(Reg4)\n",
    "T5 = trainer(Reg5)\n",
    "\n",
    "T1.train(train5[:,0], train5[:,1], cv5[:,0], cv5[:,1])\n",
    "trainJ.append(T1.optimizationResults.fun)\n",
    "testJ.append(T1.Reg.costFunction(test5[:,0], test5[:,1]))\n",
    "\n",
    "T2.train(train5[:,0], train5[:,1], cv5[:,0], cv5[:,1])\n",
    "trainJ.append(T2.optimizationResults.fun)\n",
    "testJ.append(T2.Reg.costFunction(test5[:,0], test5[:,1]))\n",
    "\n",
    "T3.train(train5[:,0], train5[:,1], cv5[:,0], cv5[:,1])\n",
    "trainJ.append(T3.optimizationResults.fun)\n",
    "testJ.append(T3.Reg.costFunction(test5[:,0], test5[:,1]))\n",
    "\n",
    "T4.train(train5[:,0], train5[:,1], cv5[:,0], cv5[:,1])\n",
    "trainJ.append(T4.optimizationResults.fun)\n",
    "testJ.append(T4.Reg.costFunction(test5[:,0], test5[:,1]))\n",
    "\n",
    "T5.train(train5[:,0], train5[:,1], cv5[:,0], cv5[:,1])\n",
    "trainJ.append(T5.optimizationResults.fun)\n",
    "testJ.append(T5.Reg.costFunction(test5[:,0], test5[:,1]))"
   ]
  },
  {
   "cell_type": "code",
   "execution_count": 222,
   "metadata": {
    "collapsed": false
   },
   "outputs": [
    {
     "data": {
      "text/plain": [
       "<matplotlib.text.Text at 0x1bbbf2e8>"
      ]
     },
     "execution_count": 222,
     "metadata": {},
     "output_type": "execute_result"
    },
    {
     "data": {
      "image/png": "[encoded data removed]",
      "text/plain": [
       "<matplotlib.figure.Figure at 0x1bacf0f0>"
      ]
     },
     "metadata": {},
     "output_type": "display_data"
    }
   ],
   "source": [
    "plot(trainJ)\n",
    "plot(testJ)\n",
    "grid(1)\n",
    "xlabel('Iterations')\n",
    "ylabel('Cost')"
   ]
  },
  {
   "cell_type": "code",
   "execution_count": null,
   "metadata": {
    "collapsed": true
   },
   "outputs": [],
   "source": []
  },
  {
   "cell_type": "code",
   "execution_count": 210,
   "metadata": {
    "collapsed": false
   },
   "outputs": [
    {
     "data": {
      "text/plain": [
       "([1.8559345159770368,\n",
       "  1.8592394066302982,\n",
       "  1.8546956112753517,\n",
       "  1.8546956114918098,\n",
       "  1.8546956112263129],\n",
       " [1.6098551518571174,\n",
       "  1.7038485701657968,\n",
       "  1.6319826506314952,\n",
       "  1.6319875958600993,\n",
       "  1.6319794039304278])"
      ]
     },
     "execution_count": 210,
     "metadata": {},
     "output_type": "execute_result"
    }
   ],
   "source": [
    "(trainJ,testJ)"
   ]
  },
  {
   "cell_type": "code",
   "execution_count": null,
   "metadata": {
    "collapsed": true
   },
   "outputs": [],
   "source": []
  },
  {
   "cell_type": "code",
   "execution_count": 176,
   "metadata": {
    "collapsed": false
   },
   "outputs": [
    {
     "data": {
      "text/plain": [
       "array([  9.03372826e-01,  -1.66631843e-01,   4.99774495e-10,\n",
       "         7.76922599e-08,   6.03090495e-02,  -1.33664059e-06,\n",
       "        -2.00977143e+00,  -5.94329022e-01])"
      ]
     },
     "execution_count": 176,
     "metadata": {},
     "output_type": "execute_result"
    }
   ],
   "source": []
  },
  {
   "cell_type": "code",
   "execution_count": null,
   "metadata": {
    "collapsed": true
   },
   "outputs": [],
   "source": []
  },
  {
   "cell_type": "code",
   "execution_count": null,
   "metadata": {
    "collapsed": true
   },
   "outputs": [],
   "source": []
  },
  {
   "cell_type": "code",
   "execution_count": 149,
   "metadata": {
    "collapsed": false
   },
   "outputs": [
    {
     "data": {
      "text/plain": [
       "1.7283380199646576"
      ]
     },
     "execution_count": 149,
     "metadata": {},
     "output_type": "execute_result"
    }
   ],
   "source": [
    "Reg51.costFunction(train_data_1_1[:,0], train_data_1_1[:,1])"
   ]
  },
  {
   "cell_type": "code",
   "execution_count": 33,
   "metadata": {
    "collapsed": false
   },
   "outputs": [
    {
     "data": {
      "text/plain": [
       "array([[  3.,   5.],\n",
       "       [  5.,   1.],\n",
       "       [ 10.,   2.]])"
      ]
     },
     "execution_count": 33,
     "metadata": {},
     "output_type": "execute_result"
    }
   ],
   "source": [
    "a=1\n",
    "b=2\n",
    "x = np.array(([3,5], [5,1], [10,2]), dtype=float)\n",
    "y = (a * x + b) ** 2\n",
    "x"
   ]
  },
  {
   "cell_type": "code",
   "execution_count": 34,
   "metadata": {
    "collapsed": false
   },
   "outputs": [
    {
     "data": {
      "text/plain": [
       "3"
      ]
     },
     "execution_count": 34,
     "metadata": {},
     "output_type": "execute_result"
    }
   ],
   "source": [
    "y.shape[0]"
   ]
  },
  {
   "cell_type": "code",
   "execution_count": 35,
   "metadata": {
    "collapsed": false
   },
   "outputs": [
    {
     "data": {
      "text/plain": [
       "array([[  3.],\n",
       "       [  5.],\n",
       "       [ 10.]])"
      ]
     },
     "execution_count": 35,
     "metadata": {},
     "output_type": "execute_result"
    }
   ],
   "source": [
    "z = np.array(([3], [5], [10]), dtype=float)\n",
    "z"
   ]
  },
  {
   "cell_type": "code",
   "execution_count": 36,
   "metadata": {
    "collapsed": false
   },
   "outputs": [
    {
     "ename": "NameError",
     "evalue": "name 'newaxis' is not defined",
     "output_type": "error",
     "traceback": [
      "\u001b[1;31m---------------------------------------------------------------------------\u001b[0m",
      "\u001b[1;31mNameError\u001b[0m                                 Traceback (most recent call last)",
      "\u001b[1;32m<ipython-input-36-3317b16fe6c2>\u001b[0m in \u001b[0;36m<module>\u001b[1;34m()\u001b[0m\n\u001b[1;32m----> 1\u001b[1;33m \u001b[0mz1\u001b[0m\u001b[1;33m=\u001b[0m\u001b[1;33m[\u001b[0m\u001b[0mz\u001b[0m\u001b[1;33m,\u001b[0m\u001b[0mnewaxis\u001b[0m\u001b[1;33m]\u001b[0m\u001b[1;33m\u001b[0m\u001b[0m\n\u001b[0m\u001b[0;32m      2\u001b[0m \u001b[0mz1\u001b[0m\u001b[1;33m\u001b[0m\u001b[0m\n",
      "\u001b[1;31mNameError\u001b[0m: name 'newaxis' is not defined"
     ]
    }
   ],
   "source": [
    "z1=[z,newaxis]\n",
    "z1"
   ]
  },
  {
   "cell_type": "code",
   "execution_count": 37,
   "metadata": {
    "collapsed": false
   },
   "outputs": [
    {
     "data": {
      "text/plain": [
       "array([[  3.,   5.],\n",
       "       [  5.,   1.],\n",
       "       [ 10.,   2.]])"
      ]
     },
     "execution_count": 37,
     "metadata": {},
     "output_type": "execute_result"
    }
   ],
   "source": [
    "x"
   ]
  },
  {
   "cell_type": "code",
   "execution_count": 38,
   "metadata": {
    "collapsed": false
   },
   "outputs": [
    {
     "data": {
      "text/plain": [
       "array([[  3.,   5.,   1.],\n",
       "       [  5.,   1.,   1.],\n",
       "       [ 10.,   2.,   1.]])"
      ]
     },
     "execution_count": 38,
     "metadata": {},
     "output_type": "execute_result"
    }
   ],
   "source": [
    "s = np.ones((x.shape[0], 1),dtype=float)\n",
    "s\n",
    "s1= np.append(x, s, axis=1)\n",
    "s1"
   ]
  },
  {
   "cell_type": "code",
   "execution_count": 56,
   "metadata": {
    "collapsed": false
   },
   "outputs": [
    {
     "data": {
      "text/plain": [
       "array([[ 0.,  1.,  2.],\n",
       "       [ 3.,  4.,  5.],\n",
       "       [ 6.,  7.,  8.]])"
      ]
     },
     "execution_count": 56,
     "metadata": {},
     "output_type": "execute_result"
    }
   ],
   "source": [
    "x1 = np.arange(9.0).reshape((3, 3))\n",
    "x1"
   ]
  },
  {
   "cell_type": "code",
   "execution_count": 57,
   "metadata": {
    "collapsed": false
   },
   "outputs": [
    {
     "data": {
      "text/plain": [
       "numpy.ndarray"
      ]
     },
     "execution_count": 57,
     "metadata": {},
     "output_type": "execute_result"
    }
   ],
   "source": [
    "type(x1)"
   ]
  },
  {
   "cell_type": "code",
   "execution_count": 160,
   "metadata": {
    "collapsed": false
   },
   "outputs": [
    {
     "data": {
      "text/plain": [
       "array([[  5.],\n",
       "       [  7.],\n",
       "       [ 12.]])"
      ]
     },
     "execution_count": 160,
     "metadata": {},
     "output_type": "execute_result"
    }
   ],
   "source": [
    "z+2"
   ]
  },
  {
   "cell_type": "code",
   "execution_count": 163,
   "metadata": {
    "collapsed": false
   },
   "outputs": [
    {
     "data": {
      "text/plain": [
       "array([[  3.],\n",
       "       [  5.],\n",
       "       [ 10.],\n",
       "       [  5.],\n",
       "       [  7.],\n",
       "       [ 12.]])"
      ]
     },
     "execution_count": 163,
     "metadata": {},
     "output_type": "execute_result"
    }
   ],
   "source": [
    "np.concatenate((z, z+2))"
   ]
  },
  {
   "cell_type": "code",
   "execution_count": 169,
   "metadata": {
    "collapsed": false
   },
   "outputs": [
    {
     "data": {
      "text/plain": [
       "4"
      ]
     },
     "execution_count": 169,
     "metadata": {},
     "output_type": "execute_result"
    }
   ],
   "source": [
    "a=(1, 2, 3, 4)\n",
    "len(a)"
   ]
  },
  {
   "cell_type": "code",
   "execution_count": 179,
   "metadata": {
    "collapsed": false
   },
   "outputs": [],
   "source": [
    "b=np.asarray((1, 2, 3, 4))"
   ]
  },
  {
   "cell_type": "code",
   "execution_count": 193,
   "metadata": {
    "collapsed": false
   },
   "outputs": [
    {
     "data": {
      "text/plain": [
       "array([ 0.,  0.,  0.])"
      ]
     },
     "execution_count": 193,
     "metadata": {},
     "output_type": "execute_result"
    }
   ],
   "source": [
    "np.zeros(len(x))"
   ]
  },
  {
   "cell_type": "code",
   "execution_count": 209,
   "metadata": {
    "collapsed": false
   },
   "outputs": [],
   "source": [
    "v=np.concatenate((x.ravel(), y.ravel()))"
   ]
  },
  {
   "cell_type": "code",
   "execution_count": 441,
   "metadata": {
    "collapsed": false
   },
   "outputs": [
    {
     "data": {
      "text/plain": [
       "array([[-13.],\n",
       "       [  5.],\n",
       "       [ 10.]])"
      ]
     },
     "execution_count": 441,
     "metadata": {},
     "output_type": "execute_result"
    }
   ],
   "source": [
    "v = np.array(([-13], [5], [10]), dtype=float)\n",
    "v"
   ]
  },
  {
   "cell_type": "code",
   "execution_count": 447,
   "metadata": {
    "collapsed": false
   },
   "outputs": [
    {
     "data": {
      "text/plain": [
       "array([[-1.        ],\n",
       "       [ 0.38461538],\n",
       "       [ 0.76923077]])"
      ]
     },
     "execution_count": 447,
     "metadata": {},
     "output_type": "execute_result"
    }
   ],
   "source": [
    "v/np.amax(abs(v))"
   ]
  },
  {
   "cell_type": "code",
   "execution_count": 167,
   "metadata": {
    "collapsed": false
   },
   "outputs": [
    {
     "name": "stdout",
     "output_type": "stream",
     "text": [
      "c\n"
     ]
    }
   ],
   "source": [
    "foo = ['a', 'b', 'c', 'd', 'e']\n",
    "from random import randrange\n",
    "random_index = randrange(0,len(foo))\n",
    "print foo[random_index]"
   ]
  },
  {
   "cell_type": "code",
   "execution_count": 6,
   "metadata": {
    "collapsed": false
   },
   "outputs": [],
   "source": [
    "from scipy.stats import cauchy\n",
    "import numpy as np\n",
    "class Cauchy_regression1(object):\n",
    "    # Define classs parameters\n",
    "    # model noise with c\n",
    "    c = np.random.random()\n",
    "    d = np.random.random()\n",
    "    \n",
    "    def __init__(self, lambd=0):                \n",
    "        #Weights (parameters)\n",
    "        self.a = np.random.random()\n",
    "        self.b = np.random.random()\n",
    "            \n",
    "        #Regularization Parameter:\n",
    "        self.lambd = lambd\n",
    "                    \n",
    "            \n",
    "    def costFunction(self, x, y):\n",
    "        #Compute cost for given x,y, use weights already stored in class.\n",
    "        c=Cauchy_regression1.c\n",
    "        d=Cauchy_regression1.d\n",
    "        gamma = abs(c*x + d)\n",
    "        yHat = self.a*x+self.b\n",
    "        J =  sum(np.log(gamma))/x.shape[0] - sum(np.log((y-yHat)**2 + gamma**2))/x.shape[0] +(self.lambd/2)*(sum(self.getParams()**2))\n",
    "        \n",
    "        return J\n",
    "        \n",
    "    def costFunctionPrime(self, x, y):\n",
    "        #Compute derivative with respect to a, b, c, d for a given x and y:\n",
    "        c=Cauchy_regression1.c\n",
    "        d=Cauchy_regression1.d\n",
    "        gamma = (c*x + d)\n",
    "        yHat = self.a*x+self.b\n",
    "        dJda =  sum(x*2*(y-yHat)/(gamma**2+(y-yHat)**2))/x.shape[0] + self.lambd*self.a\n",
    "        dJdb =  sum(2*(y-yHat)/(gamma**2+(y-yHat)**2))/x.shape[0] + self.lambd*self.b\n",
    "        dJdc =  sum(x/gamma)/x.shape[0] - sum(x*2*gamma/(gamma**2+(y-yHat)**2))/x.shape[0] + self.lambd*c\n",
    "        dJdd =  sum(1/gamma)/x.shape[0] - sum(2*gamma/(gamma**2+(y-yHat)**2))/x.shape[0] + self.lambd*d       \n",
    "        \n",
    "        return dJda, dJdb, dJdc, dJdd\n",
    "\n",
    "    def computeGradients(self, x, y, L=0):       \n",
    "        dJda, dJdb, dJdc, dJdd = self.costFunctionPrime(x, y)\n",
    "        if L==1:\n",
    "            return np.asarray((dJdc, dJdd))\n",
    "        elif L==2:\n",
    "            return np.asarray((dJda, dJdb))\n",
    "        else:\n",
    "            return np.asarray((dJda, dJdb, dJdc, dJdd))\n",
    "    \n",
    "    def getParams(self, L=0):\n",
    "        #Get a, b, c, d :\n",
    "        if L==1:\n",
    "            params = np.asarray((Cauchy_regression1.c, Cauchy_regression1.d))\n",
    "        elif L==2:\n",
    "            params = np.asarray((self.a, self.b))\n",
    "        else:\n",
    "            params = np.asarray((self.a, self.b, Cauchy_regression1.c, Cauchy_regression1.d))\n",
    "        return params\n",
    "    \n",
    "    def setParams(self, params, L=0):\n",
    "        #Set a, b, c, d :\n",
    "        if L==1:\n",
    "            Cauchy_regression1.c = params[0]\n",
    "            Cauchy_regression1.d = params[1]\n",
    "        elif L==2:\n",
    "            self.a = params[0]\n",
    "            self.b = params[1]\n",
    "        else:\n",
    "            self.a = params[0]\n",
    "            self.b = params[1]\n",
    "            Cauchy_regression1.c = params[2]\n",
    "            Cauchy_regression1.d = params[3]\n",
    "        \n",
    "    def computeNumericalGradients(self, x, y):\n",
    "        paramsInitial = self.getParams()\n",
    "        numgrad = np.zeros(len(paramsInitial))\n",
    "        perturb = np.zeros(len(paramsInitial))        \n",
    "        e = 1e-5\n",
    "        \n",
    "        for n in range(len(paramsInitial)):\n",
    "            #Set perturbation vector\n",
    "            perturb[n] = e\n",
    "            self.setParams(paramsInitial + perturb)\n",
    "            loss2 = self.costFunction(x, y)\n",
    "            \n",
    "            self.setParams(paramsInitial - perturb)\n",
    "            loss1 = self.costFunction(x, y)\n",
    "            \n",
    "            #Compute Numerical Gradient\n",
    "            numgrad[n] = (loss2 - loss1) / (2*e)\n",
    "            \n",
    "            #Return the value we changed to zero:\n",
    "            perturb[n] = 0\n",
    "            print (loss2, loss1, numgrad[n])\n",
    "        #Return Params to original value:\n",
    "        self.setParams(paramsInitial)\n",
    "\n",
    "        return numgrad \n",
    "    \n",
    "    def dataGeneration(self, x1=-5, x2=5, N=100):\n",
    "        c=Cauchy_regression1.c\n",
    "        d=Cauchy_regression1.d\n",
    "\n",
    "        np.random.seed()\n",
    "        x=np.random.uniform(x1,x2,N)\n",
    "        s_rand=np.zeros(N)\n",
    "        for i in range(len(x)):\n",
    "            gamma =abs(c*x[i] + d)\n",
    "            s_rand[i]=cauchy.rvs(loc=0, scale=gamma, size=1)\n",
    "        y = self.a*x + self.b + s_rand        \n",
    "        \n",
    "        return np.append(x, y).reshape(2,N).transpose()\n",
    "    "
   ]
  },
  {
   "cell_type": "code",
   "execution_count": 7,
   "metadata": {
    "collapsed": false
   },
   "outputs": [],
   "source": [
    "np.random.shuffle(data_1_1)\n",
    "np.random.shuffle(data_1_2)\n",
    "np.random.shuffle(data_1_3)\n",
    "np.random.shuffle(data_1_4)\n",
    "np.random.shuffle(data_1_5)\n",
    "train_data_1_1 = data_1_1[:int(len(data_1_1)*.7)];test_data_1_1 = data_1_1[int(len(data_1_1)*.7):]\n",
    "train_data_1_2 = data_1_2[:int(len(data_1_2)*.7)];test_data_1_2 = data_1_2[int(len(data_1_2)*.7):]\n",
    "train_data_1_3 = data_1_3[:int(len(data_1_3)*.7)];test_data_1_3 = data_1_3[int(len(data_1_3)*.7):]\n",
    "train_data_1_4 = data_1_4[:int(len(data_1_4)*.7)];test_data_1_4 = data_1_4[int(len(data_1_4)*.7):]\n",
    "train_data_1_5 = data_1_5[:int(len(data_1_5)*.7)];test_data_1_5 = data_1_5[int(len(data_1_5)*.7):]"
   ]
  },
  {
   "cell_type": "code",
   "execution_count": 8,
   "metadata": {
    "collapsed": false,
    "scrolled": true
   },
   "outputs": [
    {
     "ename": "NameError",
     "evalue": "name 'Cauchy_regression' is not defined",
     "output_type": "error",
     "traceback": [
      "\u001b[1;31m---------------------------------------------------------------------------\u001b[0m",
      "\u001b[1;31mNameError\u001b[0m                                 Traceback (most recent call last)",
      "\u001b[1;32m<ipython-input-8-a51eddcfcc19>\u001b[0m in \u001b[0;36m<module>\u001b[1;34m()\u001b[0m\n\u001b[1;32m----> 1\u001b[1;33m \u001b[0mCReg\u001b[0m\u001b[1;33m=\u001b[0m\u001b[0mCauchy_regression\u001b[0m\u001b[1;33m(\u001b[0m\u001b[0mlambd\u001b[0m\u001b[1;33m=\u001b[0m\u001b[1;36m0\u001b[0m\u001b[1;33m)\u001b[0m\u001b[1;33m\u001b[0m\u001b[0m\n\u001b[0m\u001b[0;32m      2\u001b[0m \u001b[0mCReg\u001b[0m\u001b[1;33m.\u001b[0m\u001b[0mdataGeneration\u001b[0m\u001b[1;33m(\u001b[0m\u001b[0mx1\u001b[0m\u001b[1;33m=\u001b[0m\u001b[1;33m-\u001b[0m\u001b[1;36m500\u001b[0m\u001b[1;33m,\u001b[0m \u001b[0mx2\u001b[0m\u001b[1;33m=\u001b[0m\u001b[1;33m-\u001b[0m\u001b[1;36m490\u001b[0m\u001b[1;33m,\u001b[0m \u001b[0mN\u001b[0m\u001b[1;33m=\u001b[0m\u001b[1;36m2\u001b[0m\u001b[1;33m)\u001b[0m\u001b[1;33m\u001b[0m\u001b[0m\n\u001b[0;32m      3\u001b[0m \u001b[0mCReg\u001b[0m\u001b[1;33m.\u001b[0m\u001b[0mgetParams\u001b[0m\u001b[1;33m(\u001b[0m\u001b[1;33m)\u001b[0m\u001b[1;33m\u001b[0m\u001b[0m\n",
      "\u001b[1;31mNameError\u001b[0m: name 'Cauchy_regression' is not defined"
     ]
    }
   ],
   "source": [
    "CReg=Cauchy_regression(lambd=0)\n",
    "CReg.dataGeneration(x1=-500, x2=-490, N=2)\n",
    "CReg.getParams()"
   ]
  },
  {
   "cell_type": "code",
   "execution_count": null,
   "metadata": {
    "collapsed": false
   },
   "outputs": [],
   "source": [
    "data_1_1[0:3,]"
   ]
  },
  {
   "cell_type": "code",
   "execution_count": null,
   "metadata": {
    "collapsed": false
   },
   "outputs": [],
   "source": [
    "numgrad = CReg.computeNumericalGradients(data_1_1[0:100,0],data_1_1[0:100,1])\n",
    "numgrad"
   ]
  },
  {
   "cell_type": "code",
   "execution_count": 437,
   "metadata": {
    "collapsed": false
   },
   "outputs": [
    {
     "data": {
      "text/plain": [
       "array([  2.10254265e+00,   1.01685940e-01,   7.01610957e+03,\n",
       "         7.50001842e+02])"
      ]
     },
     "execution_count": 437,
     "metadata": {},
     "output_type": "execute_result"
    }
   ],
   "source": [
    "grad = CReg.computeGradients(data_1_1[0:100,0],data_1_1[0:100,1])\n",
    "grad"
   ]
  },
  {
   "cell_type": "code",
   "execution_count": 438,
   "metadata": {
    "collapsed": false
   },
   "outputs": [
    {
     "data": {
      "text/plain": [
       "0.17825003595194017"
      ]
     },
     "execution_count": 438,
     "metadata": {},
     "output_type": "execute_result"
    }
   ],
   "source": [
    "np.linalg.norm(grad-numgrad)/np.linalg.norm(grad+numgrad)"
   ]
  },
  {
   "cell_type": "code",
   "execution_count": 384,
   "metadata": {
    "collapsed": false
   },
   "outputs": [],
   "source": [
    "T1 = trainer(CReg)"
   ]
  },
  {
   "cell_type": "code",
   "execution_count": 362,
   "metadata": {
    "collapsed": false
   },
   "outputs": [
    {
     "name": "stdout",
     "output_type": "stream",
     "text": [
      "Warning: Desired error not necessarily achieved due to precision loss.\n",
      "         Current function value: -9.965080\n",
      "         Iterations: 0\n",
      "         Function evaluations: 31\n",
      "         Gradient evaluations: 19\n"
     ]
    }
   ],
   "source": [
    "T1.train(train_data_1_1[:,0], train_data_1_1[:,1], test_data_1_1[:,0], test_data_1_1[:,1])"
   ]
  },
  {
   "cell_type": "code",
   "execution_count": 363,
   "metadata": {
    "collapsed": false
   },
   "outputs": [
    {
     "data": {
      "text/plain": [
       "<matplotlib.text.Text at 0x7a492b0>"
      ]
     },
     "execution_count": 363,
     "metadata": {},
     "output_type": "execute_result"
    },
    {
     "data": {
      "image/png": "[encoded data removed]",
      "text/plain": [
       "<matplotlib.figure.Figure at 0x79d2160>"
      ]
     },
     "metadata": {},
     "output_type": "display_data"
    }
   ],
   "source": [
    "plot(T1.J); plot(T1.testJ); grid(1);xlabel('Iterations');ylabel('Cost')"
   ]
  },
  {
   "cell_type": "code",
   "execution_count": 150,
   "metadata": {
    "collapsed": false
   },
   "outputs": [
    {
     "data": {
      "text/plain": [
       "array([  1.12939017,  -0.12404852,   1.30530087,  12.88878262,\n",
       "        -5.85054191,  -1.12991999,  -1.79298168,  -1.46064777,\n",
       "         1.15495453,   1.02709098])"
      ]
     },
     "execution_count": 150,
     "metadata": {},
     "output_type": "execute_result"
    }
   ],
   "source": [
    "s = np.random.standard_cauchy(10)\n",
    "s = s[(s>-25) & (s<25)] \n",
    "s"
   ]
  },
  {
   "cell_type": "code",
   "execution_count": 181,
   "metadata": {
    "collapsed": false
   },
   "outputs": [
    {
     "data": {
      "text/plain": [
       "<function matplotlib.pyplot.show>"
      ]
     },
     "execution_count": 181,
     "metadata": {},
     "output_type": "execute_result"
    },
    {
     "data": {
      "image/png": "[encoded data removed]",
      "text/plain": [
       "<matplotlib.figure.Figure at 0x18f1be80>"
      ]
     },
     "metadata": {},
     "output_type": "display_data"
    }
   ],
   "source": [
    "from scipy.stats import cauchy\n",
    "#mean, var, skew, kurt = cauchy.stats(moments='mvsk')\n",
    "#rv = cauchy()\n",
    "x=np.random.uniform(-5,5,1)\n",
    "s=cauchy.rvs(loc=10, scale=abs(x), size=1000)\n",
    "#s = np.random.standard_cauchy(1000)\n",
    "s = s[(s>-25) & (s<25)]\n",
    "plt.hist(s, bins=100)\n",
    "plt.show"
   ]
  },
  {
   "cell_type": "code",
   "execution_count": 143,
   "metadata": {
    "collapsed": false
   },
   "outputs": [
    {
     "name": "stdout",
     "output_type": "stream",
     "text": [
      "1.20480221388\n",
      "-0.476106571598\n",
      "0.334236519831\n",
      "1.23857541912\n",
      "-0.305135641843\n",
      "8.56143957086\n",
      "-0.859288828551\n",
      "-3.8107371487\n",
      "4.85693578743\n",
      "0.394351065926\n"
     ]
    }
   ],
   "source": [
    "for x in s:\n",
    "    print x"
   ]
  },
  {
   "cell_type": "code",
   "execution_count": 137,
   "metadata": {
    "collapsed": false
   },
   "outputs": [],
   "source": [
    "a = np.zeros(100)"
   ]
  },
  {
   "cell_type": "code",
   "execution_count": 149,
   "metadata": {
    "collapsed": false
   },
   "outputs": [
    {
     "data": {
      "text/plain": [
       "array([ 295.02192155])"
      ]
     },
     "execution_count": 149,
     "metadata": {},
     "output_type": "execute_result"
    }
   ],
   "source": [
    "cauchy.rvs(loc=0, scale=1000, size=1)"
   ]
  },
  {
   "cell_type": "code",
   "execution_count": 382,
   "metadata": {
    "collapsed": false
   },
   "outputs": [],
   "source": [
    "ng=(np.log(5+1e-5)-np.log(5-1e-5))/(2*1e-5)"
   ]
  },
  {
   "cell_type": "code",
   "execution_count": 383,
   "metadata": {
    "collapsed": false
   },
   "outputs": [
    {
     "data": {
      "text/plain": [
       "0.2"
      ]
     },
     "execution_count": 383,
     "metadata": {},
     "output_type": "execute_result"
    }
   ],
   "source": [
    "float(1)/float(5)"
   ]
  },
  {
   "cell_type": "code",
   "execution_count": 384,
   "metadata": {
    "collapsed": false
   },
   "outputs": [
    {
     "data": {
      "text/plain": [
       "-1.3377840502216908e-11"
      ]
     },
     "execution_count": 384,
     "metadata": {},
     "output_type": "execute_result"
    }
   ],
   "source": [
    "(ng-0.2)/(ng+0.2)"
   ]
  },
  {
   "cell_type": "code",
   "execution_count": null,
   "metadata": {
    "collapsed": true
   },
   "outputs": [],
   "source": []
  }
 ],
 "metadata": {
  "kernelspec": {
   "display_name": "Python 3",
   "language": "python",
   "name": "python3"
  },
  "language_info": {
   "codemirror_mode": {
    "name": "ipython",
    "version": 3
   },
   "file_extension": ".py",
   "mimetype": "text/x-python",
   "name": "python",
   "nbconvert_exporter": "python",
   "pygments_lexer": "ipython3",
   "version": "3.4.4"
  }
 },
 "nbformat": 4,
 "nbformat_minor": 0
}
